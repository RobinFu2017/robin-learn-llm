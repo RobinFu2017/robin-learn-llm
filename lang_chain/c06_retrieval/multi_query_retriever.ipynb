{
 "cells": [
  {
   "cell_type": "code",
   "execution_count": 9,
   "metadata": {},
   "outputs": [
    {
     "data": {
      "text/html": [
       "<pre style=\"white-space:pre;overflow-x:auto;line-height:normal;font-family:Menlo,'DejaVu Sans Mono',consolas,'Courier New',monospace\">7RGC8kgFXY1IT9-vxITDvXolfh3-8A\n",
       "</pre>\n"
      ],
      "text/plain": [
       "7RGC8kgFXY1IT9-vxITDvXolfh3-8A\n"
      ]
     },
     "metadata": {},
     "output_type": "display_data"
    },
    {
     "data": {
      "text/html": [
       "<pre style=\"white-space:pre;overflow-x:auto;line-height:normal;font-family:Menlo,'DejaVu Sans Mono',consolas,'Courier New',monospace\">当前目录: e:\\github_project\\robin-learn-llm\\lang_chain\\c06_retrieval\n",
       "</pre>\n"
      ],
      "text/plain": [
       "当前目录: e:\\github_project\\robin-learn-llm\\lang_chain\\c06_retrieval\n"
      ]
     },
     "metadata": {},
     "output_type": "display_data"
    }
   ],
   "source": [
    "# 引入rich打印\n",
    "import sys\n",
    "sys.path.append('../..')\n",
    "\n",
    "from rich import print\n",
    "from llm_common.set_env import set_open_ai_key,print_current_path,print_input,gothrough\n",
    "\n",
    "set_open_ai_key()\n",
    "print_current_path()\n"
   ]
  },
  {
   "cell_type": "markdown",
   "metadata": {},
   "source": [
    "https://python.langchain.com/v0.2/docs/how_to/MultiQueryRetriever/"
   ]
  },
  {
   "cell_type": "code",
   "execution_count": 10,
   "metadata": {},
   "outputs": [],
   "source": [
    "\n",
    "# https://lilianweng.github.io/posts/2023-06-23-agent/"
   ]
  },
  {
   "cell_type": "code",
   "execution_count": 11,
   "metadata": {},
   "outputs": [],
   "source": [
    "# Build a sample vectorDB\n",
    "\n",
    "from langchain_community.vectorstores import FAISS\n",
    "from langchain_community.document_loaders import WebBaseLoader\n",
    "from langchain_openai import OpenAIEmbeddings\n",
    "from langchain_text_splitters import RecursiveCharacterTextSplitter\n",
    "\n",
    "# Load blog post\n",
    "loader = WebBaseLoader(\"https://baike.baidu.com/item/%E5%B9%BF%E5%B7%9E%E5%B8%82/21808\")\n",
    "data = loader.load()\n",
    "\n",
    "# Split\n",
    "text_splitter = RecursiveCharacterTextSplitter(chunk_size=500, chunk_overlap=0)\n",
    "splits = text_splitter.split_documents(data)\n",
    "\n",
    "# VectorDB\n",
    "embedding = OpenAIEmbeddings()\n",
    "vectordb = FAISS.from_documents(documents=splits, embedding=embedding)"
   ]
  },
  {
   "cell_type": "code",
   "execution_count": 12,
   "metadata": {},
   "outputs": [],
   "source": [
    "# Set logging for the queries\n",
    "import logging\n",
    "\n",
    "logging.basicConfig()\n",
    "logging.getLogger(\"langchain.retrievers.multi_query\").setLevel(logging.INFO)"
   ]
  },
  {
   "cell_type": "code",
   "execution_count": 13,
   "metadata": {},
   "outputs": [],
   "source": [
    "from langchain.retrievers.multi_query import MultiQueryRetriever\n",
    "from langchain_openai import ChatOpenAI\n",
    "\n",
    "question = \"广州有什么好吃的\"\n",
    "llm = ChatOpenAI(model='gpt-4o-mini', temperature=0)\n",
    "retriever_from_llm = MultiQueryRetriever.from_llm(\n",
    "    retriever=vectordb.as_retriever(), llm=llm\n",
    ")"
   ]
  },
  {
   "cell_type": "code",
   "execution_count": 14,
   "metadata": {},
   "outputs": [
    {
     "name": "stderr",
     "output_type": "stream",
     "text": [
      "INFO:langchain.retrievers.multi_query:Generated queries: ['广州有哪些美食推荐？  ', '在广州吃什么比较好？  ', '广州的特色美食有哪些？']\n"
     ]
    },
    {
     "data": {
      "text/html": [
       "<pre style=\"white-space:pre;overflow-x:auto;line-height:normal;font-family:Menlo,'DejaVu Sans Mono',consolas,'Courier New',monospace\">叉烧脆皮烧肉红烧乳鸽上汤焗龙虾白灼象拔蚌鲍汁扣辽参椰汁冰糖燕窝椒盐濑尿虾白灼虾干炒牛河菠萝咕噜肉香芋扣肉豉汁蒸排骨\n",
       "玫瑰豉油鸡萝卜牛腩煲姜葱焗肉蟹支竹羊腩煲罗汉斋特色美食广州市著名的菜点有：白切鸡、烧鹅、烤乳猪、红烧乳鸽、蜜汁叉烧\n",
       "、上汤焗龙虾、清蒸石斑鱼、白灼虾、干炒牛河、广东早茶等。广州特色小吃有萝卜牛腩、牛杂、云吞面、及第粥、艇仔粥、布拉\n",
       "肠粉、猪肠粉、荷叶包饭、钵仔糕、鸡仔饼等。广州饮食业由“四园”为代表，分别为东园酒家、南园酒家、西园酒家和北园酒家，\n",
       "再辅以诸如广州酒家、泮溪酒家、莲香楼、陶陶居等有上百年历史的老字号。著名人物播报编辑广州市历代名人辈出，代代相传。\n",
       "秦朝任嚣，汉朝赵佗，晋朝葛洪，唐朝慧能，明朝湛若水，清朝学者屈大均、阮元，禁烟领袖林则徐，农民起义领袖洪秀全，洋务\n",
       "派代表人物张之洞，思想政治家康有为、梁启超，领导中国民主革命、推翻几千年封建统治的孙中山等\n",
       "</pre>\n"
      ],
      "text/plain": [
       "叉烧脆皮烧肉红烧乳鸽上汤焗龙虾白灼象拔蚌鲍汁扣辽参椰汁冰糖燕窝椒盐濑尿虾白灼虾干炒牛河菠萝咕噜肉香芋扣肉豉汁蒸排骨\n",
       "玫瑰豉油鸡萝卜牛腩煲姜葱焗肉蟹支竹羊腩煲罗汉斋特色美食广州市著名的菜点有：白切鸡、烧鹅、烤乳猪、红烧乳鸽、蜜汁叉烧\n",
       "、上汤焗龙虾、清蒸石斑鱼、白灼虾、干炒牛河、广东早茶等。广州特色小吃有萝卜牛腩、牛杂、云吞面、及第粥、艇仔粥、布拉\n",
       "肠粉、猪肠粉、荷叶包饭、钵仔糕、鸡仔饼等。广州饮食业由“四园”为代表，分别为东园酒家、南园酒家、西园酒家和北园酒家，\n",
       "再辅以诸如广州酒家、泮溪酒家、莲香楼、陶陶居等有上百年历史的老字号。著名人物播报编辑广州市历代名人辈出，代代相传。\n",
       "秦朝任嚣，汉朝赵佗，晋朝葛洪，唐朝慧能，明朝湛若水，清朝学者屈大均、阮元，禁烟领袖林则徐，农民起义领袖洪秀全，洋务\n",
       "派代表人物张之洞，思想政治家康有为、梁启超，领导中国民主革命、推翻几千年封建统治的孙中山等\n"
      ]
     },
     "metadata": {},
     "output_type": "display_data"
    },
    {
     "data": {
      "text/html": [
       "<pre style=\"white-space:pre;overflow-x:auto;line-height:normal;font-family:Menlo,'DejaVu Sans Mono',consolas,'Courier New',monospace\">-自然风光白云山广州抽水蓄能电站度假区南沙湿地公园白水寨风景名胜区碧水湾温泉度假村海珠湖国家湿地公园九龙湖度假区芙蓉\n",
       "嶂风景区石门国家森林公园流溪河国家森林公园莲花山旅游区天鹿湖森林公园黄埔丹水坑风景区七星岗古海岸遗址科学公园香雪公\n",
       "园帽峰山森林公园主题公园长隆旅游度假区花都石头记矿物园广东科学中心广州动物园华南植物园百万葵园宝趣玫瑰世界-商圈天河\n",
       "路商圈北京路商业步行街珠江新城上下九步行街艺术创意园红专厂广州TIT创意园289艺术PARK太古仓1978文化创意园羊城创意产业\n",
       "园--酒吧街沿江路酒吧街珠江琶醍啤酒文化创意艺术区环市路酒吧街白鹅潭酒吧街旋转餐厅广州塔旋转餐厅广州花园酒店旋转餐厅\n",
       "爱群大厦旋转餐厅-特产美食播报编辑饮食文化广州市是中国十大美食之都，民间有“食在广州”的美誉。广州菜是粤菜的主体和代表\n",
       "，用料广博，选料精细，技艺精良，清而不淡，鲜而不俗，嫩而不生，油而不腻。口味上以清、鲜、嫩、滑、爽、香、脆为主，追\n",
       "求原料的本味、清鲜味。既符合广东的气候特点，又符合现代营养学的要求，是一种科学的饮食文化。阿一鲍鱼广州文昌鸡烤乳猪\n",
       "新龙皇夜宴半岛御品官燕清蒸东星斑烧鹅生拆蟹肉烩海虎翅白切鸡蜜汁\n",
       "</pre>\n"
      ],
      "text/plain": [
       "-自然风光白云山广州抽水蓄能电站度假区南沙湿地公园白水寨风景名胜区碧水湾温泉度假村海珠湖国家湿地公园九龙湖度假区芙蓉\n",
       "嶂风景区石门国家森林公园流溪河国家森林公园莲花山旅游区天鹿湖森林公园黄埔丹水坑风景区七星岗古海岸遗址科学公园香雪公\n",
       "园帽峰山森林公园主题公园长隆旅游度假区花都石头记矿物园广东科学中心广州动物园华南植物园百万葵园宝趣玫瑰世界-商圈天河\n",
       "路商圈北京路商业步行街珠江新城上下九步行街艺术创意园红专厂广州TIT创意园289艺术PARK太古仓1978文化创意园羊城创意产业\n",
       "园--酒吧街沿江路酒吧街珠江琶醍啤酒文化创意艺术区环市路酒吧街白鹅潭酒吧街旋转餐厅广州塔旋转餐厅广州花园酒店旋转餐厅\n",
       "爱群大厦旋转餐厅-特产美食播报编辑饮食文化广州市是中国十大美食之都，民间有“食在广州”的美誉。广州菜是粤菜的主体和代表\n",
       "，用料广博，选料精细，技艺精良，清而不淡，鲜而不俗，嫩而不生，油而不腻。口味上以清、鲜、嫩、滑、爽、香、脆为主，追\n",
       "求原料的本味、清鲜味。既符合广东的气候特点，又符合现代营养学的要求，是一种科学的饮食文化。阿一鲍鱼广州文昌鸡烤乳猪\n",
       "新龙皇夜宴半岛御品官燕清蒸东星斑烧鹅生拆蟹肉烩海虎翅白切鸡蜜汁\n"
      ]
     },
     "metadata": {},
     "output_type": "display_data"
    },
    {
     "data": {
      "text/html": [
       "<pre style=\"white-space:pre;overflow-x:auto;line-height:normal;font-family:Menlo,'DejaVu Sans Mono',consolas,'Courier New',monospace\">广州市（中国广东省下辖地级市、省会城市）_百度百科 \n",
       "网页新闻贴吧知道网盘图片视频地图文库资讯采购百科百度首页登录注册进入词条全站搜索帮助首页秒懂百科特色百科知识专题加\n",
       "入百科百科团队权威合作个人中心广州市播报讨论上传视频中国广东省下辖地级市、省会城市展开2个同名词条收藏查看我的收藏0\n",
       "有用+10广州市，简称“穗”，别称羊城、花城、五羊城，广东省辖地级市，是广东省省会、副省级市、国家中心城市、超大城市 \n",
       "<span style=\"font-weight: bold\">[</span><span style=\"color: #008080; text-decoration-color: #008080; font-weight: bold\">272</span><span style=\"font-weight: bold\">]</span>，地处中国华南地区，广东省中南部，珠江三角洲的北缘，接近珠江流域下游入海口，总面积7434.40平方千米。 \n",
       "<span style=\"font-weight: bold\">[</span><span style=\"color: #008080; text-decoration-color: #008080; font-weight: bold\">452</span><span style=\"font-weight: bold\">]</span>截至2023年10月，广州市下辖11个区。 <span style=\"font-weight: bold\">[</span><span style=\"color: #008080; text-decoration-color: #008080; font-weight: bold\">1</span><span style=\"font-weight: bold\">]</span> <span style=\"font-weight: bold\">[</span><span style=\"color: #008080; text-decoration-color: #008080; font-weight: bold\">69</span><span style=\"font-weight: bold\">]</span>截至2023年末，广州市常住人口1882.70万人。 \n",
       "<span style=\"font-weight: bold\">[</span><span style=\"color: #008080; text-decoration-color: #008080; font-weight: bold\">429</span><span style=\"font-weight: bold\">]</span>广州市地形属于丘陵地带，地势东北高、西南低，属亚热带季风气候，海洋性气候特征显著，雨水资源丰富。\n",
       "</pre>\n"
      ],
      "text/plain": [
       "广州市（中国广东省下辖地级市、省会城市）_百度百科 \n",
       "网页新闻贴吧知道网盘图片视频地图文库资讯采购百科百度首页登录注册进入词条全站搜索帮助首页秒懂百科特色百科知识专题加\n",
       "入百科百科团队权威合作个人中心广州市播报讨论上传视频中国广东省下辖地级市、省会城市展开2个同名词条收藏查看我的收藏0\n",
       "有用+10广州市，简称“穗”，别称羊城、花城、五羊城，广东省辖地级市，是广东省省会、副省级市、国家中心城市、超大城市 \n",
       "\u001b[1m[\u001b[0m\u001b[1;36m272\u001b[0m\u001b[1m]\u001b[0m，地处中国华南地区，广东省中南部，珠江三角洲的北缘，接近珠江流域下游入海口，总面积7434.40平方千米。 \n",
       "\u001b[1m[\u001b[0m\u001b[1;36m452\u001b[0m\u001b[1m]\u001b[0m截至2023年10月，广州市下辖11个区。 \u001b[1m[\u001b[0m\u001b[1;36m1\u001b[0m\u001b[1m]\u001b[0m \u001b[1m[\u001b[0m\u001b[1;36m69\u001b[0m\u001b[1m]\u001b[0m截至2023年末，广州市常住人口1882.70万人。 \n",
       "\u001b[1m[\u001b[0m\u001b[1;36m429\u001b[0m\u001b[1m]\u001b[0m广州市地形属于丘陵地带，地势东北高、西南低，属亚热带季风气候，海洋性气候特征显著，雨水资源丰富。\n"
      ]
     },
     "metadata": {},
     "output_type": "display_data"
    },
    {
     "data": {
      "text/html": [
       "<pre style=\"white-space:pre;overflow-x:auto;line-height:normal;font-family:Menlo,'DejaVu Sans Mono',consolas,'Courier New',monospace\">舞剧院、广州芭蕾舞剧院、广东音乐曲艺团、广州杂技艺术剧院参考资料：\n",
       "</pre>\n"
      ],
      "text/plain": [
       "舞剧院、广州芭蕾舞剧院、广东音乐曲艺团、广州杂技艺术剧院参考资料：\n"
      ]
     },
     "metadata": {},
     "output_type": "display_data"
    },
    {
     "data": {
      "text/html": [
       "<pre style=\"white-space:pre;overflow-x:auto;line-height:normal;font-family:Menlo,'DejaVu Sans Mono',consolas,'Courier New',monospace\"><span style=\"font-weight: bold\">[</span><span style=\"color: #008080; text-decoration-color: #008080; font-weight: bold\">431</span><span style=\"font-weight: bold\">]</span>2023年，广州市居民消费价格比上年上涨1.<span style=\"color: #008080; text-decoration-color: #008080; font-weight: bold\">0</span>%。分类别看，食品烟酒类上涨2.<span style=\"color: #008080; text-decoration-color: #008080; font-weight: bold\">0</span>%，衣着类上涨2.<span style=\"color: #008080; text-decoration-color: #008080; font-weight: bold\">2</span>%，居住类下降0.<span style=\"color: #008080; text-decoration-color: #008080; font-weight: bold\">4</span>%，生活用\n",
       "品及服务类下降0.<span style=\"color: #008080; text-decoration-color: #008080; font-weight: bold\">4</span>%，交通和通信类下降1.<span style=\"color: #008080; text-decoration-color: #008080; font-weight: bold\">5</span>%，教育文化和娱乐类上涨4.<span style=\"color: #008080; text-decoration-color: #008080; font-weight: bold\">2</span>%，医疗保健类上涨0.<span style=\"color: #008080; text-decoration-color: #008080; font-weight: bold\">5</span>%，其他用品和服务类上涨3.<span style=\"color: #008080; text-decoration-color: #008080; font-weight: bold\">4</span>%。2\n",
       "023年，广州市工业生产者出厂价格比上年下降2.<span style=\"color: #008080; text-decoration-color: #008080; font-weight: bold\">4</span>%，其中，能源类下降3.<span style=\"color: #008080; text-decoration-color: #008080; font-weight: bold\">1</span>%，高技术类下降1.<span style=\"color: #008080; text-decoration-color: #008080; font-weight: bold\">9</span>%；轻工业下降0.<span style=\"color: #008080; text-decoration-color: #008080; font-weight: bold\">2</span>%，重工业下降3.\n",
       "<span style=\"color: #008080; text-decoration-color: #008080; font-weight: bold\">1</span>%；生产资料下降3.<span style=\"color: #008080; text-decoration-color: #008080; font-weight: bold\">4</span>%，生活资料下降0.<span style=\"color: #008080; text-decoration-color: #008080; font-weight: bold\">9</span>%。工业生产者购进价格比上年下降4.<span style=\"color: #008080; text-decoration-color: #008080; font-weight: bold\">3</span>%，其中，燃料、动力类下降6.<span style=\"color: #008080; text-decoration-color: #008080; font-weight: bold\">1</span>%，黑色金属材料\n",
       "类下降7.<span style=\"color: #008080; text-decoration-color: #008080; font-weight: bold\">3</span>%，有色金属材料及电线类下降5.<span style=\"color: #008080; text-decoration-color: #008080; font-weight: bold\">6</span>%，化工原料类下降5.<span style=\"color: #008080; text-decoration-color: #008080; font-weight: bold\">2</span>%。\n",
       "</pre>\n"
      ],
      "text/plain": [
       "\u001b[1m[\u001b[0m\u001b[1;36m431\u001b[0m\u001b[1m]\u001b[0m2023年，广州市居民消费价格比上年上涨1.\u001b[1;36m0\u001b[0m%。分类别看，食品烟酒类上涨2.\u001b[1;36m0\u001b[0m%，衣着类上涨2.\u001b[1;36m2\u001b[0m%，居住类下降0.\u001b[1;36m4\u001b[0m%，生活用\n",
       "品及服务类下降0.\u001b[1;36m4\u001b[0m%，交通和通信类下降1.\u001b[1;36m5\u001b[0m%，教育文化和娱乐类上涨4.\u001b[1;36m2\u001b[0m%，医疗保健类上涨0.\u001b[1;36m5\u001b[0m%，其他用品和服务类上涨3.\u001b[1;36m4\u001b[0m%。2\n",
       "023年，广州市工业生产者出厂价格比上年下降2.\u001b[1;36m4\u001b[0m%，其中，能源类下降3.\u001b[1;36m1\u001b[0m%，高技术类下降1.\u001b[1;36m9\u001b[0m%；轻工业下降0.\u001b[1;36m2\u001b[0m%，重工业下降3.\n",
       "\u001b[1;36m1\u001b[0m%；生产资料下降3.\u001b[1;36m4\u001b[0m%，生活资料下降0.\u001b[1;36m9\u001b[0m%。工业生产者购进价格比上年下降4.\u001b[1;36m3\u001b[0m%，其中，燃料、动力类下降6.\u001b[1;36m1\u001b[0m%，黑色金属材料\n",
       "类下降7.\u001b[1;36m3\u001b[0m%，有色金属材料及电线类下降5.\u001b[1;36m6\u001b[0m%，化工原料类下降5.\u001b[1;36m2\u001b[0m%。\n"
      ]
     },
     "metadata": {},
     "output_type": "display_data"
    },
    {
     "data": {
      "text/html": [
       "<pre style=\"white-space:pre;overflow-x:auto;line-height:normal;font-family:Menlo,'DejaVu Sans Mono',consolas,'Courier New',monospace\"><span style=\"font-weight: bold\">[</span><span style=\"color: #008080; text-decoration-color: #008080; font-weight: bold\">221</span><span style=\"font-weight: bold\">]</span>。土地资源广州市土地类型多样，适宜性广，地形复杂。地势自北向南降低，最高峰为北部从化区与龙门县交界处的天堂顶，\n",
       "海拔为1210米；东北部为中低山区；中部为丘陵盆地；南部为沿海冲积平原，是珠江三角洲的组成部分。由于受各种自然因素的互\n",
       "相作用，形成多样的土地类型 \n",
       "<span style=\"font-weight: bold\">[</span><span style=\"color: #008080; text-decoration-color: #008080; font-weight: bold\">221</span><span style=\"font-weight: bold\">]</span>。生物资源广州市栽培作物具有热带向亚热带过渡的鲜明特征，是全国果树资源最丰富的地区之一，包括热带、亚热带和温带\n",
       "三大类、41科、82属、174种和变种，共500多个品种（其中荔枝就有55个主要品种），是荔枝、龙眼、黄皮、乌（白）榄等起源和\n",
       "类型形成的中心地带。蔬菜以优质、多品种著称，共有15类、127种、370多个品种。花卉包括鲜切花类（鲜切花、鲜切叶、鲜切枝\n",
       "）、盆栽植物类（盆栽类、盆景、花坛植物）、观赏苗木、食用与药用花卉、工业及其他用途花卉、草坪、种苗等七大类。传统品\n",
       "种和近年引进、开发利用的新品种共3000多个。粮食、经济作物、畜禽、水产和野生动物种类繁多，且不乏名优特品种，其中增城\n",
       "丝苗米是广州市第一个获得地理标志的保护品种\n",
       "</pre>\n"
      ],
      "text/plain": [
       "\u001b[1m[\u001b[0m\u001b[1;36m221\u001b[0m\u001b[1m]\u001b[0m。土地资源广州市土地类型多样，适宜性广，地形复杂。地势自北向南降低，最高峰为北部从化区与龙门县交界处的天堂顶，\n",
       "海拔为1210米；东北部为中低山区；中部为丘陵盆地；南部为沿海冲积平原，是珠江三角洲的组成部分。由于受各种自然因素的互\n",
       "相作用，形成多样的土地类型 \n",
       "\u001b[1m[\u001b[0m\u001b[1;36m221\u001b[0m\u001b[1m]\u001b[0m。生物资源广州市栽培作物具有热带向亚热带过渡的鲜明特征，是全国果树资源最丰富的地区之一，包括热带、亚热带和温带\n",
       "三大类、41科、82属、174种和变种，共500多个品种（其中荔枝就有55个主要品种），是荔枝、龙眼、黄皮、乌（白）榄等起源和\n",
       "类型形成的中心地带。蔬菜以优质、多品种著称，共有15类、127种、370多个品种。花卉包括鲜切花类（鲜切花、鲜切叶、鲜切枝\n",
       "）、盆栽植物类（盆栽类、盆景、花坛植物）、观赏苗木、食用与药用花卉、工业及其他用途花卉、草坪、种苗等七大类。传统品\n",
       "种和近年引进、开发利用的新品种共3000多个。粮食、经济作物、畜禽、水产和野生动物种类繁多，且不乏名优特品种，其中增城\n",
       "丝苗米是广州市第一个获得地理标志的保护品种\n"
      ]
     },
     "metadata": {},
     "output_type": "display_data"
    }
   ],
   "source": [
    "unique_docs = retriever_from_llm.invoke(question)\n",
    "\n",
    "for doc in unique_docs:\n",
    "    print(doc.page_content)"
   ]
  }
 ],
 "metadata": {
  "kernelspec": {
   "display_name": "3.11.9",
   "language": "python",
   "name": "python3"
  },
  "language_info": {
   "codemirror_mode": {
    "name": "ipython",
    "version": 3
   },
   "file_extension": ".py",
   "mimetype": "text/x-python",
   "name": "python",
   "nbconvert_exporter": "python",
   "pygments_lexer": "ipython3",
   "version": "3.11.9"
  }
 },
 "nbformat": 4,
 "nbformat_minor": 2
}
