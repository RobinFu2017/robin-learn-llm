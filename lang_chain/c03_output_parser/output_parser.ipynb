{
 "cells": [
  {
   "cell_type": "code",
   "execution_count": 7,
   "metadata": {},
   "outputs": [
    {
     "name": "stdout",
     "output_type": "stream",
     "text": [
      "Nh6Ww0ML4A\n"
     ]
    }
   ],
   "source": [
    "# 引入rich打印\n",
    "from rich import print\n",
    "\n",
    "from set_env import set_open_ai_key\n",
    "\n",
    "set_open_ai_key()"
   ]
  },
  {
   "cell_type": "code",
   "execution_count": 54,
   "metadata": {},
   "outputs": [],
   "source": [
    "# 定义提示词模板\n",
    "from langchain_core.prompts import PromptTemplate\n",
    "\n",
    "\n",
    "p_template = \"\"\"\n",
    "{request_content}\\n\n",
    "{format_instructions}\n",
    "\"\"\"\n",
    "\n",
    "prompt_template = PromptTemplate(template=p_template)\n",
    "prompt = prompt_template.format(request_content=\"随便生成3个对象，跟动物有关\",format_instructions=\"\")\n",
    "print(prompt)\n"
   ]
  },
  {
   "cell_type": "code",
   "execution_count": 59,
   "metadata": {},
   "outputs": [
    {
     "data": {
      "text/html": [
       "<pre style=\"white-space:pre;overflow-x:auto;line-height:normal;font-family:Menlo,'DejaVu Sans Mono',consolas,'Courier New',monospace\"><span style=\"color: #800080; text-decoration-color: #800080; font-weight: bold\">AIMessage</span><span style=\"font-weight: bold\">(</span>\n",
       "    <span style=\"color: #808000; text-decoration-color: #808000\">content</span>=<span style=\"color: #008000; text-decoration-color: #008000\">'好的，这里有三个与动物有关的对象：\\n\\n1. **小狐狸**  \\n   - 名称：小红  \\n   - </span>\n",
       "<span style=\"color: #008000; text-decoration-color: #008000\">特点：毛色鲜艳的红色毛发，机灵而活泼，喜欢在森林里探险。  \\n   - 爱好：收集闪亮的石头和玩耍。\\n\\n2. **海龟**  \\n   </span>\n",
       "<span style=\"color: #008000; text-decoration-color: #008000\">- 名称：老爷龟  \\n   - 特点：年迈而智慧，背上有着独特的花纹，耐心地游弋在海洋中。  \\n   - </span>\n",
       "<span style=\"color: #008000; text-decoration-color: #008000\">爱好：寻找珊瑚礁，并与小鱼们玩耍。\\n\\n3. **大象**  \\n   - 名称：小灰  \\n   - </span>\n",
       "<span style=\"color: #008000; text-decoration-color: #008000\">特点：体型庞大，温柔善良，拥有强大的记忆力和社交能力。  \\n   - </span>\n",
       "<span style=\"color: #008000; text-decoration-color: #008000\">爱好：和同伴一起在水塘里嬉戏，喜欢用长鼻子喷水。\\n\\n这些对象各自有自己的特点和爱好，你觉得怎么样？'</span>,\n",
       "    <span style=\"color: #808000; text-decoration-color: #808000\">response_metadata</span>=<span style=\"font-weight: bold\">{</span>\n",
       "        <span style=\"color: #008000; text-decoration-color: #008000\">'token_usage'</span>: <span style=\"font-weight: bold\">{</span><span style=\"color: #008000; text-decoration-color: #008000\">'completion_tokens'</span>: <span style=\"color: #008080; text-decoration-color: #008080; font-weight: bold\">224</span>, <span style=\"color: #008000; text-decoration-color: #008000\">'prompt_tokens'</span>: <span style=\"color: #008080; text-decoration-color: #008080; font-weight: bold\">19</span>, <span style=\"color: #008000; text-decoration-color: #008000\">'total_tokens'</span>: <span style=\"color: #008080; text-decoration-color: #008080; font-weight: bold\">243</span><span style=\"font-weight: bold\">}</span>,\n",
       "        <span style=\"color: #008000; text-decoration-color: #008000\">'model_name'</span>: <span style=\"color: #008000; text-decoration-color: #008000\">'gpt-4o-mini'</span>,\n",
       "        <span style=\"color: #008000; text-decoration-color: #008000\">'system_fingerprint'</span>: <span style=\"color: #008000; text-decoration-color: #008000\">'fp_48196bc67a'</span>,\n",
       "        <span style=\"color: #008000; text-decoration-color: #008000\">'finish_reason'</span>: <span style=\"color: #008000; text-decoration-color: #008000\">'stop'</span>,\n",
       "        <span style=\"color: #008000; text-decoration-color: #008000\">'logprobs'</span>: <span style=\"color: #800080; text-decoration-color: #800080; font-style: italic\">None</span>\n",
       "    <span style=\"font-weight: bold\">}</span>,\n",
       "    <span style=\"color: #808000; text-decoration-color: #808000\">id</span>=<span style=\"color: #008000; text-decoration-color: #008000\">'run-3559804c-6375-4f82-9981-5f02f86d92d4-0'</span>,\n",
       "    <span style=\"color: #808000; text-decoration-color: #808000\">usage_metadata</span>=<span style=\"font-weight: bold\">{</span><span style=\"color: #008000; text-decoration-color: #008000\">'input_tokens'</span>: <span style=\"color: #008080; text-decoration-color: #008080; font-weight: bold\">19</span>, <span style=\"color: #008000; text-decoration-color: #008000\">'output_tokens'</span>: <span style=\"color: #008080; text-decoration-color: #008080; font-weight: bold\">224</span>, <span style=\"color: #008000; text-decoration-color: #008000\">'total_tokens'</span>: <span style=\"color: #008080; text-decoration-color: #008080; font-weight: bold\">243</span><span style=\"font-weight: bold\">}</span>\n",
       "<span style=\"font-weight: bold\">)</span>\n",
       "</pre>\n"
      ],
      "text/plain": [
       "\u001b[1;35mAIMessage\u001b[0m\u001b[1m(\u001b[0m\n",
       "    \u001b[33mcontent\u001b[0m=\u001b[32m'好的，这里有三个与动物有关的对象：\\n\\n1. **小狐狸**  \\n   - 名称：小红  \\n   - \u001b[0m\n",
       "\u001b[32m特点：毛色鲜艳的红色毛发，机灵而活泼，喜欢在森林里探险。  \\n   - 爱好：收集闪亮的石头和玩耍。\\n\\n2. **海龟**  \\n   \u001b[0m\n",
       "\u001b[32m- 名称：老爷龟  \\n   - 特点：年迈而智慧，背上有着独特的花纹，耐心地游弋在海洋中。  \\n   - \u001b[0m\n",
       "\u001b[32m爱好：寻找珊瑚礁，并与小鱼们玩耍。\\n\\n3. **大象**  \\n   - 名称：小灰  \\n   - \u001b[0m\n",
       "\u001b[32m特点：体型庞大，温柔善良，拥有强大的记忆力和社交能力。  \\n   - \u001b[0m\n",
       "\u001b[32m爱好：和同伴一起在水塘里嬉戏，喜欢用长鼻子喷水。\\n\\n这些对象各自有自己的特点和爱好，你觉得怎么样？'\u001b[0m,\n",
       "    \u001b[33mresponse_metadata\u001b[0m=\u001b[1m{\u001b[0m\n",
       "        \u001b[32m'token_usage'\u001b[0m: \u001b[1m{\u001b[0m\u001b[32m'completion_tokens'\u001b[0m: \u001b[1;36m224\u001b[0m, \u001b[32m'prompt_tokens'\u001b[0m: \u001b[1;36m19\u001b[0m, \u001b[32m'total_tokens'\u001b[0m: \u001b[1;36m243\u001b[0m\u001b[1m}\u001b[0m,\n",
       "        \u001b[32m'model_name'\u001b[0m: \u001b[32m'gpt-4o-mini'\u001b[0m,\n",
       "        \u001b[32m'system_fingerprint'\u001b[0m: \u001b[32m'fp_48196bc67a'\u001b[0m,\n",
       "        \u001b[32m'finish_reason'\u001b[0m: \u001b[32m'stop'\u001b[0m,\n",
       "        \u001b[32m'logprobs'\u001b[0m: \u001b[3;35mNone\u001b[0m\n",
       "    \u001b[1m}\u001b[0m,\n",
       "    \u001b[33mid\u001b[0m=\u001b[32m'run-3559804c-6375-4f82-9981-5f02f86d92d4-0'\u001b[0m,\n",
       "    \u001b[33musage_metadata\u001b[0m=\u001b[1m{\u001b[0m\u001b[32m'input_tokens'\u001b[0m: \u001b[1;36m19\u001b[0m, \u001b[32m'output_tokens'\u001b[0m: \u001b[1;36m224\u001b[0m, \u001b[32m'total_tokens'\u001b[0m: \u001b[1;36m243\u001b[0m\u001b[1m}\u001b[0m\n",
       "\u001b[1m)\u001b[0m\n"
      ]
     },
     "metadata": {},
     "output_type": "display_data"
    }
   ],
   "source": [
    "# 调用 OpenAI 模型，不使用格式化提示\n",
    "\n",
    "from langchain_openai import ChatOpenAI\n",
    "llm = ChatOpenAI(model_name=\"gpt-4o-mini\")\n",
    "result = llm.invoke(prompt)\n",
    "print(result)"
   ]
  },
  {
   "cell_type": "code",
   "execution_count": 67,
   "metadata": {},
   "outputs": [
    {
     "data": {
      "text/html": [
       "<pre style=\"white-space:pre;overflow-x:auto;line-height:normal;font-family:Menlo,'DejaVu Sans Mono',consolas,'Courier New',monospace\">format_instructions :Return a JSON object.\n",
       "</pre>\n"
      ],
      "text/plain": [
       "format_instructions :Return a JSON object.\n"
      ]
     },
     "metadata": {},
     "output_type": "display_data"
    },
    {
     "data": {
      "text/html": [
       "<pre style=\"white-space:pre;overflow-x:auto;line-height:normal;font-family:Menlo,'DejaVu Sans Mono',consolas,'Courier New',monospace\">prompt is :\n",
       "随便生成3个对象，跟动物有关\n",
       "\n",
       "Return a JSON object.\n",
       "\n",
       "</pre>\n"
      ],
      "text/plain": [
       "prompt is :\n",
       "随便生成3个对象，跟动物有关\n",
       "\n",
       "Return a JSON object.\n",
       "\n"
      ]
     },
     "metadata": {},
     "output_type": "display_data"
    }
   ],
   "source": [
    "# 使用格式化提示，并用json解析器处理结果\n",
    "from langchain_core.output_parsers.json import JsonOutputParser\n",
    "\n",
    "parser =  JsonOutputParser()\n",
    "format_instructions = parser.get_format_instructions()\n",
    "\n",
    "print(f'format_instructions :{format_instructions}')\n",
    "\n",
    "prompt = prompt_template.format(request_content=\"随便生成3个对象，跟动物有关\",format_instructions=format_instructions)\n",
    "print(f'prompt is :{prompt}')\n",
    "\n"
   ]
  },
  {
   "cell_type": "code",
   "execution_count": 68,
   "metadata": {},
   "outputs": [
    {
     "data": {
      "text/html": [
       "<pre style=\"white-space:pre;overflow-x:auto;line-height:normal;font-family:Menlo,'DejaVu Sans Mono',consolas,'Courier New',monospace\"><span style=\"font-weight: bold\">[</span>\n",
       "    <span style=\"font-weight: bold\">{</span><span style=\"color: #008000; text-decoration-color: #008000\">'type'</span>: <span style=\"color: #008000; text-decoration-color: #008000\">'dog'</span>, <span style=\"color: #008000; text-decoration-color: #008000\">'breed'</span>: <span style=\"color: #008000; text-decoration-color: #008000\">'Golden Retriever'</span>, <span style=\"color: #008000; text-decoration-color: #008000\">'age'</span>: <span style=\"color: #008080; text-decoration-color: #008080; font-weight: bold\">3</span>, <span style=\"color: #008000; text-decoration-color: #008000\">'color'</span>: <span style=\"color: #008000; text-decoration-color: #008000\">'golden'</span>, <span style=\"color: #008000; text-decoration-color: #008000\">'name'</span>: <span style=\"color: #008000; text-decoration-color: #008000\">'Buddy'</span><span style=\"font-weight: bold\">}</span>,\n",
       "    <span style=\"font-weight: bold\">{</span><span style=\"color: #008000; text-decoration-color: #008000\">'type'</span>: <span style=\"color: #008000; text-decoration-color: #008000\">'cat'</span>, <span style=\"color: #008000; text-decoration-color: #008000\">'breed'</span>: <span style=\"color: #008000; text-decoration-color: #008000\">'Siamese'</span>, <span style=\"color: #008000; text-decoration-color: #008000\">'age'</span>: <span style=\"color: #008080; text-decoration-color: #008080; font-weight: bold\">2</span>, <span style=\"color: #008000; text-decoration-color: #008000\">'color'</span>: <span style=\"color: #008000; text-decoration-color: #008000\">'cream'</span>, <span style=\"color: #008000; text-decoration-color: #008000\">'name'</span>: <span style=\"color: #008000; text-decoration-color: #008000\">'Luna'</span><span style=\"font-weight: bold\">}</span>,\n",
       "    <span style=\"font-weight: bold\">{</span><span style=\"color: #008000; text-decoration-color: #008000\">'type'</span>: <span style=\"color: #008000; text-decoration-color: #008000\">'bird'</span>, <span style=\"color: #008000; text-decoration-color: #008000\">'species'</span>: <span style=\"color: #008000; text-decoration-color: #008000\">'Parrot'</span>, <span style=\"color: #008000; text-decoration-color: #008000\">'age'</span>: <span style=\"color: #008080; text-decoration-color: #008080; font-weight: bold\">5</span>, <span style=\"color: #008000; text-decoration-color: #008000\">'color'</span>: <span style=\"color: #008000; text-decoration-color: #008000\">'green'</span>, <span style=\"color: #008000; text-decoration-color: #008000\">'name'</span>: <span style=\"color: #008000; text-decoration-color: #008000\">'Polly'</span><span style=\"font-weight: bold\">}</span>\n",
       "<span style=\"font-weight: bold\">]</span>\n",
       "</pre>\n"
      ],
      "text/plain": [
       "\u001b[1m[\u001b[0m\n",
       "    \u001b[1m{\u001b[0m\u001b[32m'type'\u001b[0m: \u001b[32m'dog'\u001b[0m, \u001b[32m'breed'\u001b[0m: \u001b[32m'Golden Retriever'\u001b[0m, \u001b[32m'age'\u001b[0m: \u001b[1;36m3\u001b[0m, \u001b[32m'color'\u001b[0m: \u001b[32m'golden'\u001b[0m, \u001b[32m'name'\u001b[0m: \u001b[32m'Buddy'\u001b[0m\u001b[1m}\u001b[0m,\n",
       "    \u001b[1m{\u001b[0m\u001b[32m'type'\u001b[0m: \u001b[32m'cat'\u001b[0m, \u001b[32m'breed'\u001b[0m: \u001b[32m'Siamese'\u001b[0m, \u001b[32m'age'\u001b[0m: \u001b[1;36m2\u001b[0m, \u001b[32m'color'\u001b[0m: \u001b[32m'cream'\u001b[0m, \u001b[32m'name'\u001b[0m: \u001b[32m'Luna'\u001b[0m\u001b[1m}\u001b[0m,\n",
       "    \u001b[1m{\u001b[0m\u001b[32m'type'\u001b[0m: \u001b[32m'bird'\u001b[0m, \u001b[32m'species'\u001b[0m: \u001b[32m'Parrot'\u001b[0m, \u001b[32m'age'\u001b[0m: \u001b[1;36m5\u001b[0m, \u001b[32m'color'\u001b[0m: \u001b[32m'green'\u001b[0m, \u001b[32m'name'\u001b[0m: \u001b[32m'Polly'\u001b[0m\u001b[1m}\u001b[0m\n",
       "\u001b[1m]\u001b[0m\n"
      ]
     },
     "metadata": {},
     "output_type": "display_data"
    }
   ],
   "source": [
    "# 用chain调用\n",
    "chain =  prompt_template | llm | parser\n",
    "result = chain.invoke({\"request_content\":\"随便生成3个对象，跟动物有关\",\"format_instructions\":format_instructions})\n",
    "\n",
    "print(result)"
   ]
  },
  {
   "cell_type": "code",
   "execution_count": 70,
   "metadata": {},
   "outputs": [
    {
     "data": {
      "text/html": [
       "<pre style=\"white-space:pre;overflow-x:auto;line-height:normal;font-family:Menlo,'DejaVu Sans Mono',consolas,'Courier New',monospace\">format_instructions :Your response should be a list of comma separated values, eg: `foo, bar, baz` or `foo,bar,baz`\n",
       "</pre>\n"
      ],
      "text/plain": [
       "format_instructions :Your response should be a list of comma separated values, eg: `foo, bar, baz` or `foo,bar,baz`\n"
      ]
     },
     "metadata": {},
     "output_type": "display_data"
    },
    {
     "data": {
      "text/html": [
       "<pre style=\"white-space:pre;overflow-x:auto;line-height:normal;font-family:Menlo,'DejaVu Sans Mono',consolas,'Courier New',monospace\">prompt is :\n",
       "随便生成3个对象，跟动物有关\n",
       "\n",
       "Your response should be a list of comma separated values, eg: `foo, bar, baz` or `foo,bar,baz`\n",
       "\n",
       "</pre>\n"
      ],
      "text/plain": [
       "prompt is :\n",
       "随便生成3个对象，跟动物有关\n",
       "\n",
       "Your response should be a list of comma separated values, eg: `foo, bar, baz` or `foo,bar,baz`\n",
       "\n"
      ]
     },
     "metadata": {},
     "output_type": "display_data"
    }
   ],
   "source": [
    "# 换一种解析器-CommaSeparatedListOutputParser\n",
    "from langchain_core.output_parsers.list import CommaSeparatedListOutputParser \n",
    "parser =  CommaSeparatedListOutputParser()\n",
    "format_instructions = parser.get_format_instructions()\n",
    "\n",
    "print(f'format_instructions :{format_instructions}')\n",
    "\n",
    "prompt = prompt_template.format(request_content=\"随便生成3个对象，跟动物有关\",format_instructions=format_instructions)\n",
    "print(f'prompt is :{prompt}')\n"
   ]
  },
  {
   "cell_type": "code",
   "execution_count": 71,
   "metadata": {},
   "outputs": [
    {
     "data": {
      "text/html": [
       "<pre style=\"white-space:pre;overflow-x:auto;line-height:normal;font-family:Menlo,'DejaVu Sans Mono',consolas,'Courier New',monospace\"><span style=\"font-weight: bold\">[</span><span style=\"color: #008000; text-decoration-color: #008000\">'猫'</span>, <span style=\"color: #008000; text-decoration-color: #008000\">'狗'</span>, <span style=\"color: #008000; text-decoration-color: #008000\">'兔子'</span><span style=\"font-weight: bold\">]</span>\n",
       "</pre>\n"
      ],
      "text/plain": [
       "\u001b[1m[\u001b[0m\u001b[32m'猫'\u001b[0m, \u001b[32m'狗'\u001b[0m, \u001b[32m'兔子'\u001b[0m\u001b[1m]\u001b[0m\n"
      ]
     },
     "metadata": {},
     "output_type": "display_data"
    }
   ],
   "source": [
    "# 用chain调用\n",
    "chain =  prompt_template | llm | parser\n",
    "result = chain.invoke({\"request_content\":\"随便生成3个对象，跟动物有关\",\"format_instructions\":format_instructions})\n",
    "\n",
    "print(result)"
   ]
  }
 ],
 "metadata": {
  "kernelspec": {
   "display_name": "Python 3",
   "language": "python",
   "name": "python3"
  },
  "language_info": {
   "codemirror_mode": {
    "name": "ipython",
    "version": 3
   },
   "file_extension": ".py",
   "mimetype": "text/x-python",
   "name": "python",
   "nbconvert_exporter": "python",
   "pygments_lexer": "ipython3",
   "version": "3.11.8"
  }
 },
 "nbformat": 4,
 "nbformat_minor": 2
}
