{
 "cells": [
  {
   "cell_type": "code",
   "execution_count": 1,
   "metadata": {},
   "outputs": [
    {
     "data": {
      "text/html": [
       "<pre style=\"white-space:pre;overflow-x:auto;line-height:normal;font-family:Menlo,'DejaVu Sans Mono',consolas,'Courier New',monospace\">7RGC8kgFXY1IT9-vxITDvXolfh3-8A\n",
       "</pre>\n"
      ],
      "text/plain": [
       "7RGC8kgFXY1IT9-vxITDvXolfh3-8A\n"
      ]
     },
     "metadata": {},
     "output_type": "display_data"
    },
    {
     "data": {
      "text/html": [
       "<pre style=\"white-space:pre;overflow-x:auto;line-height:normal;font-family:Menlo,'DejaVu Sans Mono',consolas,'Courier New',monospace\">当前目录: e:\\github_project\\robin-learn-llm\\lang_chain\\c03_output_parser\n",
       "</pre>\n"
      ],
      "text/plain": [
       "当前目录: e:\\github_project\\robin-learn-llm\\lang_chain\\c03_output_parser\n"
      ]
     },
     "metadata": {},
     "output_type": "display_data"
    }
   ],
   "source": [
    "# 引入rich打印\n",
    "import sys\n",
    "sys.path.append('../..')\n",
    "\n",
    "from rich import print\n",
    "from llm_common.set_env import set_open_ai_key,print_current_path\n",
    "\n",
    "set_open_ai_key()\n",
    "print_current_path()"
   ]
  },
  {
   "cell_type": "code",
   "execution_count": 2,
   "metadata": {},
   "outputs": [
    {
     "data": {
      "text/html": [
       "<pre style=\"white-space:pre;overflow-x:auto;line-height:normal;font-family:Menlo,'DejaVu Sans Mono',consolas,'Courier New',monospace\">\n",
       "随便生成3个对象，跟动物有关\n",
       "\n",
       "\n",
       "\n",
       "</pre>\n"
      ],
      "text/plain": [
       "\n",
       "随便生成3个对象，跟动物有关\n",
       "\n",
       "\n",
       "\n"
      ]
     },
     "metadata": {},
     "output_type": "display_data"
    }
   ],
   "source": [
    "# 定义提示词模板\n",
    "from langchain_core.prompts import PromptTemplate\n",
    "\n",
    "\n",
    "p_template = \"\"\"\n",
    "{request_content}\\n\n",
    "{format_instructions}\n",
    "\"\"\"\n",
    "\n",
    "prompt_template = PromptTemplate(template=p_template)\n",
    "prompt = prompt_template.format(request_content=\"随便生成3个对象，跟动物有关\",format_instructions=\"\")\n",
    "print(prompt)\n"
   ]
  },
  {
   "cell_type": "code",
   "execution_count": 3,
   "metadata": {},
   "outputs": [
    {
     "data": {
      "text/html": [
       "<pre style=\"white-space:pre;overflow-x:auto;line-height:normal;font-family:Menlo,'DejaVu Sans Mono',consolas,'Courier New',monospace\"><span style=\"color: #800080; text-decoration-color: #800080; font-weight: bold\">AIMessage</span><span style=\"font-weight: bold\">(</span>\n",
       "    <span style=\"color: #808000; text-decoration-color: #808000\">content</span>=<span style=\"color: #008000; text-decoration-color: #008000\">'当然可以！以下是三个与动物有关的对象：\\n\\n1. **宠物食品碗**  \\n   </span>\n",
       "<span style=\"color: #008000; text-decoration-color: #008000\">描述：一个专为狗狗设计的食品碗，采用不锈钢材质，底部有防滑设计，确保在用餐时不会轻易移动。碗的外侧印有可爱的狗狗图</span>\n",
       "<span style=\"color: #008000; text-decoration-color: #008000\">案，增加了趣味性。\\n\\n2. **猫咪抓板**  \\n   </span>\n",
       "<span style=\"color: #008000; text-decoration-color: #008000\">描述：一块由环保纸板制成的猫咪抓板，形状像一根鱼骨头，表面有粗糙的质感，能有效满足猫咪的抓挠需求。抓板还附带了一小</span>\n",
       "<span style=\"color: #008000; text-decoration-color: #008000\">包猫薄荷，吸引猫咪使用。\\n\\n3. **鸟笼摆件**  \\n   </span>\n",
       "<span style=\"color: #008000; text-decoration-color: #008000\">描述：一个小巧精致的鸟笼摆件，材质为木质和金属，外观古朴优雅。笼子里有一个小小的假鸟，适合用作家居装饰，增添自然气</span>\n",
       "<span style=\"color: #008000; text-decoration-color: #008000\">息。\\n\\n希望你喜欢这三个与动物有关的对象！'</span>,\n",
       "    <span style=\"color: #808000; text-decoration-color: #808000\">additional_kwargs</span>=<span style=\"font-weight: bold\">{</span><span style=\"color: #008000; text-decoration-color: #008000\">'refusal'</span>: <span style=\"color: #800080; text-decoration-color: #800080; font-style: italic\">None</span><span style=\"font-weight: bold\">}</span>,\n",
       "    <span style=\"color: #808000; text-decoration-color: #808000\">response_metadata</span>=<span style=\"font-weight: bold\">{</span>\n",
       "        <span style=\"color: #008000; text-decoration-color: #008000\">'token_usage'</span>: <span style=\"font-weight: bold\">{</span>\n",
       "            <span style=\"color: #008000; text-decoration-color: #008000\">'completion_tokens'</span>: <span style=\"color: #008080; text-decoration-color: #008080; font-weight: bold\">238</span>,\n",
       "            <span style=\"color: #008000; text-decoration-color: #008000\">'prompt_tokens'</span>: <span style=\"color: #008080; text-decoration-color: #008080; font-weight: bold\">19</span>,\n",
       "            <span style=\"color: #008000; text-decoration-color: #008000\">'total_tokens'</span>: <span style=\"color: #008080; text-decoration-color: #008080; font-weight: bold\">257</span>,\n",
       "            <span style=\"color: #008000; text-decoration-color: #008000\">'completion_tokens_details'</span>: <span style=\"font-weight: bold\">{</span><span style=\"color: #008000; text-decoration-color: #008000\">'audio_tokens'</span>: <span style=\"color: #800080; text-decoration-color: #800080; font-style: italic\">None</span>, <span style=\"color: #008000; text-decoration-color: #008000\">'reasoning_tokens'</span>: <span style=\"color: #008080; text-decoration-color: #008080; font-weight: bold\">0</span><span style=\"font-weight: bold\">}</span>,\n",
       "            <span style=\"color: #008000; text-decoration-color: #008000\">'prompt_tokens_details'</span>: <span style=\"font-weight: bold\">{</span><span style=\"color: #008000; text-decoration-color: #008000\">'audio_tokens'</span>: <span style=\"color: #800080; text-decoration-color: #800080; font-style: italic\">None</span>, <span style=\"color: #008000; text-decoration-color: #008000\">'cached_tokens'</span>: <span style=\"color: #008080; text-decoration-color: #008080; font-weight: bold\">0</span><span style=\"font-weight: bold\">}</span>\n",
       "        <span style=\"font-weight: bold\">}</span>,\n",
       "        <span style=\"color: #008000; text-decoration-color: #008000\">'model_name'</span>: <span style=\"color: #008000; text-decoration-color: #008000\">'gpt-4o-mini-2024-07-18'</span>,\n",
       "        <span style=\"color: #008000; text-decoration-color: #008000\">'system_fingerprint'</span>: <span style=\"color: #008000; text-decoration-color: #008000\">'fp_f85bea6784'</span>,\n",
       "        <span style=\"color: #008000; text-decoration-color: #008000\">'finish_reason'</span>: <span style=\"color: #008000; text-decoration-color: #008000\">'stop'</span>,\n",
       "        <span style=\"color: #008000; text-decoration-color: #008000\">'logprobs'</span>: <span style=\"color: #800080; text-decoration-color: #800080; font-style: italic\">None</span>\n",
       "    <span style=\"font-weight: bold\">}</span>,\n",
       "    <span style=\"color: #808000; text-decoration-color: #808000\">id</span>=<span style=\"color: #008000; text-decoration-color: #008000\">'run-05262100-6edc-4d53-bac3-b3362b5652b7-0'</span>,\n",
       "    <span style=\"color: #808000; text-decoration-color: #808000\">usage_metadata</span>=<span style=\"font-weight: bold\">{</span>\n",
       "        <span style=\"color: #008000; text-decoration-color: #008000\">'input_tokens'</span>: <span style=\"color: #008080; text-decoration-color: #008080; font-weight: bold\">19</span>,\n",
       "        <span style=\"color: #008000; text-decoration-color: #008000\">'output_tokens'</span>: <span style=\"color: #008080; text-decoration-color: #008080; font-weight: bold\">238</span>,\n",
       "        <span style=\"color: #008000; text-decoration-color: #008000\">'total_tokens'</span>: <span style=\"color: #008080; text-decoration-color: #008080; font-weight: bold\">257</span>,\n",
       "        <span style=\"color: #008000; text-decoration-color: #008000\">'input_token_details'</span>: <span style=\"font-weight: bold\">{</span><span style=\"color: #008000; text-decoration-color: #008000\">'cache_read'</span>: <span style=\"color: #008080; text-decoration-color: #008080; font-weight: bold\">0</span><span style=\"font-weight: bold\">}</span>,\n",
       "        <span style=\"color: #008000; text-decoration-color: #008000\">'output_token_details'</span>: <span style=\"font-weight: bold\">{</span><span style=\"color: #008000; text-decoration-color: #008000\">'reasoning'</span>: <span style=\"color: #008080; text-decoration-color: #008080; font-weight: bold\">0</span><span style=\"font-weight: bold\">}</span>\n",
       "    <span style=\"font-weight: bold\">}</span>\n",
       "<span style=\"font-weight: bold\">)</span>\n",
       "</pre>\n"
      ],
      "text/plain": [
       "\u001b[1;35mAIMessage\u001b[0m\u001b[1m(\u001b[0m\n",
       "    \u001b[33mcontent\u001b[0m=\u001b[32m'当然可以！以下是三个与动物有关的对象：\\n\\n1. **宠物食品碗**  \\n   \u001b[0m\n",
       "\u001b[32m描述：一个专为狗狗设计的食品碗，采用不锈钢材质，底部有防滑设计，确保在用餐时不会轻易移动。碗的外侧印有可爱的狗狗图\u001b[0m\n",
       "\u001b[32m案，增加了趣味性。\\n\\n2. **猫咪抓板**  \\n   \u001b[0m\n",
       "\u001b[32m描述：一块由环保纸板制成的猫咪抓板，形状像一根鱼骨头，表面有粗糙的质感，能有效满足猫咪的抓挠需求。抓板还附带了一小\u001b[0m\n",
       "\u001b[32m包猫薄荷，吸引猫咪使用。\\n\\n3. **鸟笼摆件**  \\n   \u001b[0m\n",
       "\u001b[32m描述：一个小巧精致的鸟笼摆件，材质为木质和金属，外观古朴优雅。笼子里有一个小小的假鸟，适合用作家居装饰，增添自然气\u001b[0m\n",
       "\u001b[32m息。\\n\\n希望你喜欢这三个与动物有关的对象！'\u001b[0m,\n",
       "    \u001b[33madditional_kwargs\u001b[0m=\u001b[1m{\u001b[0m\u001b[32m'refusal'\u001b[0m: \u001b[3;35mNone\u001b[0m\u001b[1m}\u001b[0m,\n",
       "    \u001b[33mresponse_metadata\u001b[0m=\u001b[1m{\u001b[0m\n",
       "        \u001b[32m'token_usage'\u001b[0m: \u001b[1m{\u001b[0m\n",
       "            \u001b[32m'completion_tokens'\u001b[0m: \u001b[1;36m238\u001b[0m,\n",
       "            \u001b[32m'prompt_tokens'\u001b[0m: \u001b[1;36m19\u001b[0m,\n",
       "            \u001b[32m'total_tokens'\u001b[0m: \u001b[1;36m257\u001b[0m,\n",
       "            \u001b[32m'completion_tokens_details'\u001b[0m: \u001b[1m{\u001b[0m\u001b[32m'audio_tokens'\u001b[0m: \u001b[3;35mNone\u001b[0m, \u001b[32m'reasoning_tokens'\u001b[0m: \u001b[1;36m0\u001b[0m\u001b[1m}\u001b[0m,\n",
       "            \u001b[32m'prompt_tokens_details'\u001b[0m: \u001b[1m{\u001b[0m\u001b[32m'audio_tokens'\u001b[0m: \u001b[3;35mNone\u001b[0m, \u001b[32m'cached_tokens'\u001b[0m: \u001b[1;36m0\u001b[0m\u001b[1m}\u001b[0m\n",
       "        \u001b[1m}\u001b[0m,\n",
       "        \u001b[32m'model_name'\u001b[0m: \u001b[32m'gpt-4o-mini-2024-07-18'\u001b[0m,\n",
       "        \u001b[32m'system_fingerprint'\u001b[0m: \u001b[32m'fp_f85bea6784'\u001b[0m,\n",
       "        \u001b[32m'finish_reason'\u001b[0m: \u001b[32m'stop'\u001b[0m,\n",
       "        \u001b[32m'logprobs'\u001b[0m: \u001b[3;35mNone\u001b[0m\n",
       "    \u001b[1m}\u001b[0m,\n",
       "    \u001b[33mid\u001b[0m=\u001b[32m'run-05262100-6edc-4d53-bac3-b3362b5652b7-0'\u001b[0m,\n",
       "    \u001b[33musage_metadata\u001b[0m=\u001b[1m{\u001b[0m\n",
       "        \u001b[32m'input_tokens'\u001b[0m: \u001b[1;36m19\u001b[0m,\n",
       "        \u001b[32m'output_tokens'\u001b[0m: \u001b[1;36m238\u001b[0m,\n",
       "        \u001b[32m'total_tokens'\u001b[0m: \u001b[1;36m257\u001b[0m,\n",
       "        \u001b[32m'input_token_details'\u001b[0m: \u001b[1m{\u001b[0m\u001b[32m'cache_read'\u001b[0m: \u001b[1;36m0\u001b[0m\u001b[1m}\u001b[0m,\n",
       "        \u001b[32m'output_token_details'\u001b[0m: \u001b[1m{\u001b[0m\u001b[32m'reasoning'\u001b[0m: \u001b[1;36m0\u001b[0m\u001b[1m}\u001b[0m\n",
       "    \u001b[1m}\u001b[0m\n",
       "\u001b[1m)\u001b[0m\n"
      ]
     },
     "metadata": {},
     "output_type": "display_data"
    }
   ],
   "source": [
    "# 调用 OpenAI 模型，不使用格式化提示\n",
    "\n",
    "from langchain_openai import ChatOpenAI\n",
    "llm = ChatOpenAI(model_name=\"gpt-4o-mini\")\n",
    "result = llm.invoke(prompt)\n",
    "print(result)"
   ]
  },
  {
   "cell_type": "code",
   "execution_count": 4,
   "metadata": {},
   "outputs": [
    {
     "data": {
      "text/html": [
       "<pre style=\"white-space:pre;overflow-x:auto;line-height:normal;font-family:Menlo,'DejaVu Sans Mono',consolas,'Courier New',monospace\">format_instructions :Return a JSON object.\n",
       "</pre>\n"
      ],
      "text/plain": [
       "format_instructions :Return a JSON object.\n"
      ]
     },
     "metadata": {},
     "output_type": "display_data"
    },
    {
     "data": {
      "text/html": [
       "<pre style=\"white-space:pre;overflow-x:auto;line-height:normal;font-family:Menlo,'DejaVu Sans Mono',consolas,'Courier New',monospace\">prompt is :\n",
       "随便生成3个对象，跟动物有关\n",
       "\n",
       "Return a JSON object.\n",
       "\n",
       "</pre>\n"
      ],
      "text/plain": [
       "prompt is :\n",
       "随便生成3个对象，跟动物有关\n",
       "\n",
       "Return a JSON object.\n",
       "\n"
      ]
     },
     "metadata": {},
     "output_type": "display_data"
    }
   ],
   "source": [
    "# 使用格式化提示，并用json解析器处理结果\n",
    "from langchain_core.output_parsers.json import JsonOutputParser\n",
    "\n",
    "parser =  JsonOutputParser()\n",
    "format_instructions = parser.get_format_instructions()\n",
    "\n",
    "print(f'format_instructions :{format_instructions}')\n",
    "\n",
    "prompt = prompt_template.format(request_content=\"随便生成3个对象，跟动物有关\",format_instructions=format_instructions)\n",
    "print(f'prompt is :{prompt}')\n",
    "\n"
   ]
  },
  {
   "cell_type": "code",
   "execution_count": 5,
   "metadata": {},
   "outputs": [
    {
     "data": {
      "text/html": [
       "<pre style=\"white-space:pre;overflow-x:auto;line-height:normal;font-family:Menlo,'DejaVu Sans Mono',consolas,'Courier New',monospace\"><span style=\"font-weight: bold\">{</span>\n",
       "    <span style=\"color: #008000; text-decoration-color: #008000\">'animals'</span>: <span style=\"font-weight: bold\">[</span>\n",
       "        <span style=\"font-weight: bold\">{</span><span style=\"color: #008000; text-decoration-color: #008000\">'name'</span>: <span style=\"color: #008000; text-decoration-color: #008000\">'Lion'</span>, <span style=\"color: #008000; text-decoration-color: #008000\">'species'</span>: <span style=\"color: #008000; text-decoration-color: #008000\">'Panthera leo'</span>, <span style=\"color: #008000; text-decoration-color: #008000\">'habitat'</span>: <span style=\"color: #008000; text-decoration-color: #008000\">'Savanna'</span>, <span style=\"color: #008000; text-decoration-color: #008000\">'diet'</span>: <span style=\"color: #008000; text-decoration-color: #008000\">'Carnivore'</span><span style=\"font-weight: bold\">}</span>,\n",
       "        <span style=\"font-weight: bold\">{</span>\n",
       "            <span style=\"color: #008000; text-decoration-color: #008000\">'name'</span>: <span style=\"color: #008000; text-decoration-color: #008000\">'Elephant'</span>,\n",
       "            <span style=\"color: #008000; text-decoration-color: #008000\">'species'</span>: <span style=\"color: #008000; text-decoration-color: #008000\">'Loxodonta africana'</span>,\n",
       "            <span style=\"color: #008000; text-decoration-color: #008000\">'habitat'</span>: <span style=\"color: #008000; text-decoration-color: #008000\">'Grassland, Forest'</span>,\n",
       "            <span style=\"color: #008000; text-decoration-color: #008000\">'diet'</span>: <span style=\"color: #008000; text-decoration-color: #008000\">'Herbivore'</span>\n",
       "        <span style=\"font-weight: bold\">}</span>,\n",
       "        <span style=\"font-weight: bold\">{</span>\n",
       "            <span style=\"color: #008000; text-decoration-color: #008000\">'name'</span>: <span style=\"color: #008000; text-decoration-color: #008000\">'Penguin'</span>,\n",
       "            <span style=\"color: #008000; text-decoration-color: #008000\">'species'</span>: <span style=\"color: #008000; text-decoration-color: #008000\">'Aptenodytes forsteri'</span>,\n",
       "            <span style=\"color: #008000; text-decoration-color: #008000\">'habitat'</span>: <span style=\"color: #008000; text-decoration-color: #008000\">'Antarctic regions'</span>,\n",
       "            <span style=\"color: #008000; text-decoration-color: #008000\">'diet'</span>: <span style=\"color: #008000; text-decoration-color: #008000\">'Carnivore'</span>\n",
       "        <span style=\"font-weight: bold\">}</span>\n",
       "    <span style=\"font-weight: bold\">]</span>\n",
       "<span style=\"font-weight: bold\">}</span>\n",
       "</pre>\n"
      ],
      "text/plain": [
       "\u001b[1m{\u001b[0m\n",
       "    \u001b[32m'animals'\u001b[0m: \u001b[1m[\u001b[0m\n",
       "        \u001b[1m{\u001b[0m\u001b[32m'name'\u001b[0m: \u001b[32m'Lion'\u001b[0m, \u001b[32m'species'\u001b[0m: \u001b[32m'Panthera leo'\u001b[0m, \u001b[32m'habitat'\u001b[0m: \u001b[32m'Savanna'\u001b[0m, \u001b[32m'diet'\u001b[0m: \u001b[32m'Carnivore'\u001b[0m\u001b[1m}\u001b[0m,\n",
       "        \u001b[1m{\u001b[0m\n",
       "            \u001b[32m'name'\u001b[0m: \u001b[32m'Elephant'\u001b[0m,\n",
       "            \u001b[32m'species'\u001b[0m: \u001b[32m'Loxodonta africana'\u001b[0m,\n",
       "            \u001b[32m'habitat'\u001b[0m: \u001b[32m'Grassland, Forest'\u001b[0m,\n",
       "            \u001b[32m'diet'\u001b[0m: \u001b[32m'Herbivore'\u001b[0m\n",
       "        \u001b[1m}\u001b[0m,\n",
       "        \u001b[1m{\u001b[0m\n",
       "            \u001b[32m'name'\u001b[0m: \u001b[32m'Penguin'\u001b[0m,\n",
       "            \u001b[32m'species'\u001b[0m: \u001b[32m'Aptenodytes forsteri'\u001b[0m,\n",
       "            \u001b[32m'habitat'\u001b[0m: \u001b[32m'Antarctic regions'\u001b[0m,\n",
       "            \u001b[32m'diet'\u001b[0m: \u001b[32m'Carnivore'\u001b[0m\n",
       "        \u001b[1m}\u001b[0m\n",
       "    \u001b[1m]\u001b[0m\n",
       "\u001b[1m}\u001b[0m\n"
      ]
     },
     "metadata": {},
     "output_type": "display_data"
    }
   ],
   "source": [
    "# 用chain调用\n",
    "chain =  prompt_template | llm | parser\n",
    "result = chain.invoke({\"request_content\":\"随便生成3个对象，跟动物有关\",\"format_instructions\":format_instructions})\n",
    "\n",
    "print(result)"
   ]
  },
  {
   "cell_type": "code",
   "execution_count": 6,
   "metadata": {},
   "outputs": [
    {
     "data": {
      "text/html": [
       "<pre style=\"white-space:pre;overflow-x:auto;line-height:normal;font-family:Menlo,'DejaVu Sans Mono',consolas,'Courier New',monospace\">format_instructions :Your response should be a list of comma separated values, eg: `foo, bar, baz` or `foo,bar,baz`\n",
       "</pre>\n"
      ],
      "text/plain": [
       "format_instructions :Your response should be a list of comma separated values, eg: `foo, bar, baz` or `foo,bar,baz`\n"
      ]
     },
     "metadata": {},
     "output_type": "display_data"
    },
    {
     "data": {
      "text/html": [
       "<pre style=\"white-space:pre;overflow-x:auto;line-height:normal;font-family:Menlo,'DejaVu Sans Mono',consolas,'Courier New',monospace\">prompt is :\n",
       "随便生成3个对象，跟动物有关\n",
       "\n",
       "Your response should be a list of comma separated values, eg: `foo, bar, baz` or `foo,bar,baz`\n",
       "\n",
       "</pre>\n"
      ],
      "text/plain": [
       "prompt is :\n",
       "随便生成3个对象，跟动物有关\n",
       "\n",
       "Your response should be a list of comma separated values, eg: `foo, bar, baz` or `foo,bar,baz`\n",
       "\n"
      ]
     },
     "metadata": {},
     "output_type": "display_data"
    }
   ],
   "source": [
    "# 换一种解析器-CommaSeparatedListOutputParser\n",
    "from langchain_core.output_parsers.list import CommaSeparatedListOutputParser \n",
    "parser =  CommaSeparatedListOutputParser()\n",
    "format_instructions = parser.get_format_instructions()\n",
    "\n",
    "print(f'format_instructions :{format_instructions}')\n",
    "\n",
    "prompt = prompt_template.format(request_content=\"随便生成3个对象，跟动物有关\",format_instructions=format_instructions)\n",
    "print(f'prompt is :{prompt}')\n"
   ]
  },
  {
   "cell_type": "code",
   "execution_count": 7,
   "metadata": {},
   "outputs": [
    {
     "data": {
      "text/html": [
       "<pre style=\"white-space:pre;overflow-x:auto;line-height:normal;font-family:Menlo,'DejaVu Sans Mono',consolas,'Courier New',monospace\"><span style=\"font-weight: bold\">[</span><span style=\"color: #008000; text-decoration-color: #008000\">'狗'</span>, <span style=\"color: #008000; text-decoration-color: #008000\">'猫'</span>, <span style=\"color: #008000; text-decoration-color: #008000\">'兔子'</span><span style=\"font-weight: bold\">]</span>\n",
       "</pre>\n"
      ],
      "text/plain": [
       "\u001b[1m[\u001b[0m\u001b[32m'狗'\u001b[0m, \u001b[32m'猫'\u001b[0m, \u001b[32m'兔子'\u001b[0m\u001b[1m]\u001b[0m\n"
      ]
     },
     "metadata": {},
     "output_type": "display_data"
    }
   ],
   "source": [
    "# 用chain调用\n",
    "chain =  prompt_template | llm | parser\n",
    "result = chain.invoke({\"request_content\":\"随便生成3个对象，跟动物有关\",\"format_instructions\":format_instructions})\n",
    "\n",
    "print(result)"
   ]
  }
 ],
 "metadata": {
  "kernelspec": {
   "display_name": "Python 3",
   "language": "python",
   "name": "python3"
  },
  "language_info": {
   "codemirror_mode": {
    "name": "ipython",
    "version": 3
   },
   "file_extension": ".py",
   "mimetype": "text/x-python",
   "name": "python",
   "nbconvert_exporter": "python",
   "pygments_lexer": "ipython3",
   "version": "3.11.9"
  }
 },
 "nbformat": 4,
 "nbformat_minor": 2
}
