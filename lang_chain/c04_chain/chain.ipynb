{
 "cells": [
  {
   "cell_type": "code",
   "execution_count": 1,
   "metadata": {},
   "outputs": [
    {
     "data": {
      "text/html": [
       "<pre style=\"white-space:pre;overflow-x:auto;line-height:normal;font-family:Menlo,'DejaVu Sans Mono',consolas,'Courier New',monospace\">7RGC8kgFXY1IT9-vxITDvXolfh3-8A\n",
       "</pre>\n"
      ],
      "text/plain": [
       "7RGC8kgFXY1IT9-vxITDvXolfh3-8A\n"
      ]
     },
     "metadata": {},
     "output_type": "display_data"
    },
    {
     "data": {
      "text/html": [
       "<pre style=\"white-space:pre;overflow-x:auto;line-height:normal;font-family:Menlo,'DejaVu Sans Mono',consolas,'Courier New',monospace\">当前目录: e:\\github_project\\robin-learn-llm\\lang_chain\\c04_chain\n",
       "</pre>\n"
      ],
      "text/plain": [
       "当前目录: e:\\github_project\\robin-learn-llm\\lang_chain\\c04_chain\n"
      ]
     },
     "metadata": {},
     "output_type": "display_data"
    }
   ],
   "source": [
    "# 引入rich打印\n",
    "import sys\n",
    "sys.path.append('../..')\n",
    "\n",
    "from rich import print\n",
    "from llm_common.set_env import set_open_ai_key,print_current_path,print_input,gothrough\n",
    "\n",
    "set_open_ai_key()\n",
    "print_current_path()\n"
   ]
  },
  {
   "cell_type": "code",
   "execution_count": 2,
   "metadata": {},
   "outputs": [],
   "source": [
    "# 定义模型\n",
    "from langchain_openai import ChatOpenAI\n",
    "\n",
    "model = ChatOpenAI(model=\"gpt-4o-mini\")"
   ]
  },
  {
   "cell_type": "code",
   "execution_count": 3,
   "metadata": {},
   "outputs": [
    {
     "data": {
      "text/html": [
       "<pre style=\"white-space:pre;overflow-x:auto;line-height:normal;font-family:Menlo,'DejaVu Sans Mono',consolas,'Courier New',monospace\">input:\n",
       "</pre>\n"
      ],
      "text/plain": [
       "input:\n"
      ]
     },
     "metadata": {},
     "output_type": "display_data"
    },
    {
     "data": {
      "text/html": [
       "<pre style=\"white-space:pre;overflow-x:auto;line-height:normal;font-family:Menlo,'DejaVu Sans Mono',consolas,'Courier New',monospace\"><span style=\"color: #800080; text-decoration-color: #800080; font-weight: bold\">ChatPromptValue</span><span style=\"font-weight: bold\">(</span>\n",
       "    <span style=\"color: #808000; text-decoration-color: #808000\">messages</span>=<span style=\"font-weight: bold\">[</span><span style=\"color: #800080; text-decoration-color: #800080; font-weight: bold\">HumanMessage</span><span style=\"font-weight: bold\">(</span><span style=\"color: #808000; text-decoration-color: #808000\">content</span>=<span style=\"color: #008000; text-decoration-color: #008000\">'讲个关于[程序员]的笑话'</span>, <span style=\"color: #808000; text-decoration-color: #808000\">additional_kwargs</span>=<span style=\"font-weight: bold\">{}</span>, <span style=\"color: #808000; text-decoration-color: #808000\">response_metadata</span>=<span style=\"font-weight: bold\">{})]</span>\n",
       "<span style=\"font-weight: bold\">)</span>\n",
       "</pre>\n"
      ],
      "text/plain": [
       "\u001b[1;35mChatPromptValue\u001b[0m\u001b[1m(\u001b[0m\n",
       "    \u001b[33mmessages\u001b[0m=\u001b[1m[\u001b[0m\u001b[1;35mHumanMessage\u001b[0m\u001b[1m(\u001b[0m\u001b[33mcontent\u001b[0m=\u001b[32m'讲个关于\u001b[0m\u001b[32m[\u001b[0m\u001b[32m程序员\u001b[0m\u001b[32m]\u001b[0m\u001b[32m的笑话'\u001b[0m, \u001b[33madditional_kwargs\u001b[0m=\u001b[1m{\u001b[0m\u001b[1m}\u001b[0m, \u001b[33mresponse_metadata\u001b[0m=\u001b[1m{\u001b[0m\u001b[1m}\u001b[0m\u001b[1m)\u001b[0m\u001b[1m]\u001b[0m\n",
       "\u001b[1m)\u001b[0m\n"
      ]
     },
     "metadata": {},
     "output_type": "display_data"
    },
    {
     "data": {
      "text/html": [
       "<pre style=\"white-space:pre;overflow-x:auto;line-height:normal;font-family:Menlo,'DejaVu Sans Mono',consolas,'Courier New',monospace\">当然可以！这是一个关于程序员的笑话：\n",
       "\n",
       "有一天，程序员和他的朋友在咖啡馆里喝咖啡。朋友问：“你们程序员在工作的时候，最怕遇到什么？”\n",
       "\n",
       "程序员回答：“遇到问题的时候，最怕的就是……没有人给我把错误信息复制粘贴过来！” \n",
       "\n",
       "朋友疑惑地问：“为什么？”\n",
       "\n",
       "程序员叹了口气：“因为我只会在代码里找 bug，不会在咖啡里找 bug！” \n",
       "\n",
       "哈哈，希望你喜欢这个笑话！\n",
       "</pre>\n"
      ],
      "text/plain": [
       "当然可以！这是一个关于程序员的笑话：\n",
       "\n",
       "有一天，程序员和他的朋友在咖啡馆里喝咖啡。朋友问：“你们程序员在工作的时候，最怕遇到什么？”\n",
       "\n",
       "程序员回答：“遇到问题的时候，最怕的就是……没有人给我把错误信息复制粘贴过来！” \n",
       "\n",
       "朋友疑惑地问：“为什么？”\n",
       "\n",
       "程序员叹了口气：“因为我只会在代码里找 bug，不会在咖啡里找 bug！” \n",
       "\n",
       "哈哈，希望你喜欢这个笑话！\n"
      ]
     },
     "metadata": {},
     "output_type": "display_data"
    }
   ],
   "source": [
    "# 简单的链\n",
    "from langchain_core.output_parsers import StrOutputParser\n",
    "from langchain_core.prompts import ChatPromptTemplate\n",
    "\n",
    "prompt = ChatPromptTemplate.from_template(\"讲个关于[{topic}]的笑话\")\n",
    "\n",
    "chain = prompt | print_input| model | StrOutputParser()\n",
    "\n",
    "response = chain.invoke({\"topic\": \"程序员\"})\n",
    "print(response)"
   ]
  },
  {
   "cell_type": "code",
   "execution_count": 4,
   "metadata": {},
   "outputs": [
    {
     "data": {
      "text/html": [
       "<pre style=\"white-space:pre;overflow-x:auto;line-height:normal;font-family:Menlo,'DejaVu Sans Mono',consolas,'Courier New',monospace\">input:\n",
       "</pre>\n"
      ],
      "text/plain": [
       "input:\n"
      ]
     },
     "metadata": {},
     "output_type": "display_data"
    },
    {
     "data": {
      "text/html": [
       "<pre style=\"white-space:pre;overflow-x:auto;line-height:normal;font-family:Menlo,'DejaVu Sans Mono',consolas,'Courier New',monospace\"><span style=\"color: #800080; text-decoration-color: #800080; font-weight: bold\">ChatPromptValue</span><span style=\"font-weight: bold\">(</span>\n",
       "    <span style=\"color: #808000; text-decoration-color: #808000\">messages</span>=<span style=\"font-weight: bold\">[</span><span style=\"color: #800080; text-decoration-color: #800080; font-weight: bold\">HumanMessage</span><span style=\"font-weight: bold\">(</span><span style=\"color: #808000; text-decoration-color: #808000\">content</span>=<span style=\"color: #008000; text-decoration-color: #008000\">'讲个关于[bears]的笑话'</span>, <span style=\"color: #808000; text-decoration-color: #808000\">additional_kwargs</span>=<span style=\"font-weight: bold\">{}</span>, <span style=\"color: #808000; text-decoration-color: #808000\">response_metadata</span>=<span style=\"font-weight: bold\">{})]</span>\n",
       "<span style=\"font-weight: bold\">)</span>\n",
       "</pre>\n"
      ],
      "text/plain": [
       "\u001b[1;35mChatPromptValue\u001b[0m\u001b[1m(\u001b[0m\n",
       "    \u001b[33mmessages\u001b[0m=\u001b[1m[\u001b[0m\u001b[1;35mHumanMessage\u001b[0m\u001b[1m(\u001b[0m\u001b[33mcontent\u001b[0m=\u001b[32m'讲个关于\u001b[0m\u001b[32m[\u001b[0m\u001b[32mbears\u001b[0m\u001b[32m]\u001b[0m\u001b[32m的笑话'\u001b[0m, \u001b[33madditional_kwargs\u001b[0m=\u001b[1m{\u001b[0m\u001b[1m}\u001b[0m, \u001b[33mresponse_metadata\u001b[0m=\u001b[1m{\u001b[0m\u001b[1m}\u001b[0m\u001b[1m)\u001b[0m\u001b[1m]\u001b[0m\n",
       "\u001b[1m)\u001b[0m\n"
      ]
     },
     "metadata": {},
     "output_type": "display_data"
    },
    {
     "data": {
      "text/html": [
       "<pre style=\"white-space:pre;overflow-x:auto;line-height:normal;font-family:Menlo,'DejaVu Sans Mono',consolas,'Courier New',monospace\">input:\n",
       "</pre>\n"
      ],
      "text/plain": [
       "input:\n"
      ]
     },
     "metadata": {},
     "output_type": "display_data"
    },
    {
     "data": {
      "text/html": [
       "<pre style=\"white-space:pre;overflow-x:auto;line-height:normal;font-family:Menlo,'DejaVu Sans Mono',consolas,'Courier New',monospace\"><span style=\"font-weight: bold\">{</span>\n",
       "    <span style=\"color: #008000; text-decoration-color: #008000\">'joke'</span>: <span style=\"color: #008000; text-decoration-color: #008000\">'当然可以！这是一个关于熊的笑话：\\n\\n为什么熊从不买新车？\\n\\n因为它们总是喜欢“熊”行！ </span>\n",
       "<span style=\"color: #008000; text-decoration-color: #008000\">\\n\\n希望这个笑话能让你笑一笑！'</span>\n",
       "<span style=\"font-weight: bold\">}</span>\n",
       "</pre>\n"
      ],
      "text/plain": [
       "\u001b[1m{\u001b[0m\n",
       "    \u001b[32m'joke'\u001b[0m: \u001b[32m'当然可以！这是一个关于熊的笑话：\\n\\n为什么熊从不买新车？\\n\\n因为它们总是喜欢“熊”行！ \u001b[0m\n",
       "\u001b[32m\\n\\n希望这个笑话能让你笑一笑！'\u001b[0m\n",
       "\u001b[1m}\u001b[0m\n"
      ]
     },
     "metadata": {},
     "output_type": "display_data"
    },
    {
     "data": {
      "text/html": [
       "<pre style=\"white-space:pre;overflow-x:auto;line-height:normal;font-family:Menlo,'DejaVu Sans Mono',consolas,'Courier New',monospace\">input:\n",
       "</pre>\n"
      ],
      "text/plain": [
       "input:\n"
      ]
     },
     "metadata": {},
     "output_type": "display_data"
    },
    {
     "data": {
      "text/html": [
       "<pre style=\"white-space:pre;overflow-x:auto;line-height:normal;font-family:Menlo,'DejaVu Sans Mono',consolas,'Courier New',monospace\"><span style=\"color: #800080; text-decoration-color: #800080; font-weight: bold\">ChatPromptValue</span><span style=\"font-weight: bold\">(</span>\n",
       "    <span style=\"color: #808000; text-decoration-color: #808000\">messages</span>=<span style=\"font-weight: bold\">[</span>\n",
       "        <span style=\"color: #800080; text-decoration-color: #800080; font-weight: bold\">HumanMessage</span><span style=\"font-weight: bold\">(</span>\n",
       "            <span style=\"color: #808000; text-decoration-color: #808000\">content</span>=<span style=\"color: #008000; text-decoration-color: #008000\">'这好笑吗?【当然可以！这是一个关于熊的笑话：\\n\\n为什么熊从不买新车？\\n\\n因为它们总是喜欢“熊”行</span>\n",
       "<span style=\"color: #008000; text-decoration-color: #008000\">！ \\n\\n希望这个笑话能让你笑一笑！】'</span>,\n",
       "            <span style=\"color: #808000; text-decoration-color: #808000\">additional_kwargs</span>=<span style=\"font-weight: bold\">{}</span>,\n",
       "            <span style=\"color: #808000; text-decoration-color: #808000\">response_metadata</span>=<span style=\"font-weight: bold\">{}</span>\n",
       "        <span style=\"font-weight: bold\">)</span>\n",
       "    <span style=\"font-weight: bold\">]</span>\n",
       "<span style=\"font-weight: bold\">)</span>\n",
       "</pre>\n"
      ],
      "text/plain": [
       "\u001b[1;35mChatPromptValue\u001b[0m\u001b[1m(\u001b[0m\n",
       "    \u001b[33mmessages\u001b[0m=\u001b[1m[\u001b[0m\n",
       "        \u001b[1;35mHumanMessage\u001b[0m\u001b[1m(\u001b[0m\n",
       "            \u001b[33mcontent\u001b[0m=\u001b[32m'这好笑吗?【当然可以！这是一个关于熊的笑话：\\n\\n为什么熊从不买新车？\\n\\n因为它们总是喜欢“熊”行\u001b[0m\n",
       "\u001b[32m！ \\n\\n希望这个笑话能让你笑一笑！】'\u001b[0m,\n",
       "            \u001b[33madditional_kwargs\u001b[0m=\u001b[1m{\u001b[0m\u001b[1m}\u001b[0m,\n",
       "            \u001b[33mresponse_metadata\u001b[0m=\u001b[1m{\u001b[0m\u001b[1m}\u001b[0m\n",
       "        \u001b[1m)\u001b[0m\n",
       "    \u001b[1m]\u001b[0m\n",
       "\u001b[1m)\u001b[0m\n"
      ]
     },
     "metadata": {},
     "output_type": "display_data"
    },
    {
     "data": {
      "text/html": [
       "<pre style=\"white-space:pre;overflow-x:auto;line-height:normal;font-family:Menlo,'DejaVu Sans Mono',consolas,'Courier New',monospace\">这个笑话挺有趣的！用“熊”这个词的双关语很巧妙。你还有其他想听的笑话吗？或者想聊聊别的？\n",
       "</pre>\n"
      ],
      "text/plain": [
       "这个笑话挺有趣的！用“熊”这个词的双关语很巧妙。你还有其他想听的笑话吗？或者想聊聊别的？\n"
      ]
     },
     "metadata": {},
     "output_type": "display_data"
    }
   ],
   "source": [
    "# 链嵌套\n",
    "from langchain_core.output_parsers import StrOutputParser\n",
    "from langchain_core.runnables import RunnableLambda\n",
    "\n",
    "analysis_prompt = ChatPromptTemplate.from_template(\"这好笑吗?【{joke}】\")\n",
    "\n",
    "composed_chain = {\"joke\": chain} |RunnableLambda(print_input)| analysis_prompt |print_input| model | StrOutputParser()\n",
    "\n",
    "response = composed_chain.invoke({\"topic\": \"bears\"})\n",
    "\n",
    "print(response)"
   ]
  },
  {
   "cell_type": "code",
   "execution_count": 5,
   "metadata": {},
   "outputs": [
    {
     "data": {
      "text/html": [
       "<pre style=\"white-space:pre;overflow-x:auto;line-height:normal;font-family:Menlo,'DejaVu Sans Mono',consolas,'Courier New',monospace\">input:\n",
       "</pre>\n"
      ],
      "text/plain": [
       "input:\n"
      ]
     },
     "metadata": {},
     "output_type": "display_data"
    },
    {
     "data": {
      "text/html": [
       "<pre style=\"white-space:pre;overflow-x:auto;line-height:normal;font-family:Menlo,'DejaVu Sans Mono',consolas,'Courier New',monospace\"><span style=\"color: #800080; text-decoration-color: #800080; font-weight: bold\">ChatPromptValue</span><span style=\"font-weight: bold\">(</span>\n",
       "    <span style=\"color: #808000; text-decoration-color: #808000\">messages</span>=<span style=\"font-weight: bold\">[</span><span style=\"color: #800080; text-decoration-color: #800080; font-weight: bold\">HumanMessage</span><span style=\"font-weight: bold\">(</span><span style=\"color: #808000; text-decoration-color: #808000\">content</span>=<span style=\"color: #008000; text-decoration-color: #008000\">'讲个关于[程序员]的笑话'</span>, <span style=\"color: #808000; text-decoration-color: #808000\">additional_kwargs</span>=<span style=\"font-weight: bold\">{}</span>, <span style=\"color: #808000; text-decoration-color: #808000\">response_metadata</span>=<span style=\"font-weight: bold\">{})]</span>\n",
       "<span style=\"font-weight: bold\">)</span>\n",
       "</pre>\n"
      ],
      "text/plain": [
       "\u001b[1;35mChatPromptValue\u001b[0m\u001b[1m(\u001b[0m\n",
       "    \u001b[33mmessages\u001b[0m=\u001b[1m[\u001b[0m\u001b[1;35mHumanMessage\u001b[0m\u001b[1m(\u001b[0m\u001b[33mcontent\u001b[0m=\u001b[32m'讲个关于\u001b[0m\u001b[32m[\u001b[0m\u001b[32m程序员\u001b[0m\u001b[32m]\u001b[0m\u001b[32m的笑话'\u001b[0m, \u001b[33madditional_kwargs\u001b[0m=\u001b[1m{\u001b[0m\u001b[1m}\u001b[0m, \u001b[33mresponse_metadata\u001b[0m=\u001b[1m{\u001b[0m\u001b[1m}\u001b[0m\u001b[1m)\u001b[0m\u001b[1m]\u001b[0m\n",
       "\u001b[1m)\u001b[0m\n"
      ]
     },
     "metadata": {},
     "output_type": "display_data"
    },
    {
     "data": {
      "text/html": [
       "<pre style=\"white-space:pre;overflow-x:auto;line-height:normal;font-family:Menlo,'DejaVu Sans Mono',consolas,'Courier New',monospace\">input:\n",
       "</pre>\n"
      ],
      "text/plain": [
       "input:\n"
      ]
     },
     "metadata": {},
     "output_type": "display_data"
    },
    {
     "data": {
      "text/html": [
       "<pre style=\"white-space:pre;overflow-x:auto;line-height:normal;font-family:Menlo,'DejaVu Sans Mono',consolas,'Courier New',monospace\"><span style=\"color: #800080; text-decoration-color: #800080; font-weight: bold\">ChatPromptValue</span><span style=\"font-weight: bold\">(</span>\n",
       "    <span style=\"color: #808000; text-decoration-color: #808000\">messages</span>=<span style=\"font-weight: bold\">[</span><span style=\"color: #800080; text-decoration-color: #800080; font-weight: bold\">HumanMessage</span><span style=\"font-weight: bold\">(</span><span style=\"color: #808000; text-decoration-color: #808000\">content</span>=<span style=\"color: #008000; text-decoration-color: #008000\">'讲个关于[程序员]的笑话'</span>, <span style=\"color: #808000; text-decoration-color: #808000\">additional_kwargs</span>=<span style=\"font-weight: bold\">{}</span>, <span style=\"color: #808000; text-decoration-color: #808000\">response_metadata</span>=<span style=\"font-weight: bold\">{})]</span>\n",
       "<span style=\"font-weight: bold\">)</span>\n",
       "</pre>\n"
      ],
      "text/plain": [
       "\u001b[1;35mChatPromptValue\u001b[0m\u001b[1m(\u001b[0m\n",
       "    \u001b[33mmessages\u001b[0m=\u001b[1m[\u001b[0m\u001b[1;35mHumanMessage\u001b[0m\u001b[1m(\u001b[0m\u001b[33mcontent\u001b[0m=\u001b[32m'讲个关于\u001b[0m\u001b[32m[\u001b[0m\u001b[32m程序员\u001b[0m\u001b[32m]\u001b[0m\u001b[32m的笑话'\u001b[0m, \u001b[33madditional_kwargs\u001b[0m=\u001b[1m{\u001b[0m\u001b[1m}\u001b[0m, \u001b[33mresponse_metadata\u001b[0m=\u001b[1m{\u001b[0m\u001b[1m}\u001b[0m\u001b[1m)\u001b[0m\u001b[1m]\u001b[0m\n",
       "\u001b[1m)\u001b[0m\n"
      ]
     },
     "metadata": {},
     "output_type": "display_data"
    },
    {
     "data": {
      "text/html": [
       "<pre style=\"white-space:pre;overflow-x:auto;line-height:normal;font-family:Menlo,'DejaVu Sans Mono',consolas,'Courier New',monospace\">input:\n",
       "</pre>\n"
      ],
      "text/plain": [
       "input:\n"
      ]
     },
     "metadata": {},
     "output_type": "display_data"
    },
    {
     "data": {
      "text/html": [
       "<pre style=\"white-space:pre;overflow-x:auto;line-height:normal;font-family:Menlo,'DejaVu Sans Mono',consolas,'Courier New',monospace\"><span style=\"font-weight: bold\">{</span>\n",
       "    <span style=\"color: #008000; text-decoration-color: #008000\">'joke1'</span>: \n",
       "<span style=\"color: #008000; text-decoration-color: #008000\">'当然可以！这里有一个关于程序员的笑话：\\n\\n有一天，程序员去海边度假。他看到海水很清澈，就决定下水游泳。结果，他一不</span>\n",
       "<span style=\"color: #008000; text-decoration-color: #008000\">小心被海浪卷走了。\\n\\n救生员看到后，立刻跳入水中，奋力游向他。等救生员把他救上岸后，程序员喘着气说：“谢谢你！我还以</span>\n",
       "<span style=\"color: #008000; text-decoration-color: #008000\">为我会被淹死呢！”\\n\\n救生员回答：“没关系，只要你保持冷静，按照‘游泳’的‘算法’就可以了！”\\n\\n程序员一愣：“什么是游泳</span>\n",
       "<span style=\"color: #008000; text-decoration-color: #008000\">的算法？”\\n\\n救生员笑着说：“就是不断地划水、呼吸，循环往复！”\\n\\n希望这个笑话能让你开心！'</span>,\n",
       "    <span style=\"color: #008000; text-decoration-color: #008000\">'joke2'</span>: \n",
       "<span style=\"color: #008000; text-decoration-color: #008000\">'当然可以！这是一个关于程序员的笑话：\\n\\n为什么程序员总是喜欢在海边工作？\\n\\n因为他们喜欢在“海”（“hi”）里调试（debu</span>\n",
       "<span style=\"color: #008000; text-decoration-color: #008000\">g）！ \\n\\n希望你喜欢这个笑话！'</span>\n",
       "<span style=\"font-weight: bold\">}</span>\n",
       "</pre>\n"
      ],
      "text/plain": [
       "\u001b[1m{\u001b[0m\n",
       "    \u001b[32m'joke1'\u001b[0m: \n",
       "\u001b[32m'当然可以！这里有一个关于程序员的笑话：\\n\\n有一天，程序员去海边度假。他看到海水很清澈，就决定下水游泳。结果，他一不\u001b[0m\n",
       "\u001b[32m小心被海浪卷走了。\\n\\n救生员看到后，立刻跳入水中，奋力游向他。等救生员把他救上岸后，程序员喘着气说：“谢谢你！我还以\u001b[0m\n",
       "\u001b[32m为我会被淹死呢！”\\n\\n救生员回答：“没关系，只要你保持冷静，按照‘游泳’的‘算法’就可以了！”\\n\\n程序员一愣：“什么是游泳\u001b[0m\n",
       "\u001b[32m的算法？”\\n\\n救生员笑着说：“就是不断地划水、呼吸，循环往复！”\\n\\n希望这个笑话能让你开心！'\u001b[0m,\n",
       "    \u001b[32m'joke2'\u001b[0m: \n",
       "\u001b[32m'当然可以！这是一个关于程序员的笑话：\\n\\n为什么程序员总是喜欢在海边工作？\\n\\n因为他们喜欢在“海”（“hi”）里调试（debu\u001b[0m\n",
       "\u001b[32mg）！ \\n\\n希望你喜欢这个笑话！'\u001b[0m\n",
       "\u001b[1m}\u001b[0m\n"
      ]
     },
     "metadata": {},
     "output_type": "display_data"
    },
    {
     "data": {
      "text/html": [
       "<pre style=\"white-space:pre;overflow-x:auto;line-height:normal;font-family:Menlo,'DejaVu Sans Mono',consolas,'Courier New',monospace\">input:\n",
       "</pre>\n"
      ],
      "text/plain": [
       "input:\n"
      ]
     },
     "metadata": {},
     "output_type": "display_data"
    },
    {
     "data": {
      "text/html": [
       "<pre style=\"white-space:pre;overflow-x:auto;line-height:normal;font-family:Menlo,'DejaVu Sans Mono',consolas,'Courier New',monospace\"><span style=\"color: #800080; text-decoration-color: #800080; font-weight: bold\">ChatPromptValue</span><span style=\"font-weight: bold\">(</span>\n",
       "    <span style=\"color: #808000; text-decoration-color: #808000\">messages</span>=<span style=\"font-weight: bold\">[</span>\n",
       "        <span style=\"color: #800080; text-decoration-color: #800080; font-weight: bold\">HumanMessage</span><span style=\"font-weight: bold\">(</span>\n",
       "            <span style=\"color: #808000; text-decoration-color: #808000\">content</span>=<span style=\"color: #008000; text-decoration-color: #008000\">'这两个笑话哪个比较好笑？笑话1： </span>\n",
       "<span style=\"color: #008000; text-decoration-color: #008000\">###当然可以！这里有一个关于程序员的笑话：\\n\\n有一天，程序员去海边度假。他看到海水很清澈，就决定下水游泳。结果，他一</span>\n",
       "<span style=\"color: #008000; text-decoration-color: #008000\">不小心被海浪卷走了。\\n\\n救生员看到后，立刻跳入水中，奋力游向他。等救生员把他救上岸后，程序员喘着气说：“谢谢你！我还</span>\n",
       "<span style=\"color: #008000; text-decoration-color: #008000\">以为我会被淹死呢！”\\n\\n救生员回答：“没关系，只要你保持冷静，按照‘游泳’的‘算法’就可以了！”\\n\\n程序员一愣：“什么是游</span>\n",
       "<span style=\"color: #008000; text-decoration-color: #008000\">泳的算法？”\\n\\n救生员笑着说：“就是不断地划水、呼吸，循环往复！”\\n\\n希望这个笑话能让你开心！###\\n笑话2：###当然可以</span>\n",
       "<span style=\"color: #008000; text-decoration-color: #008000\">！这是一个关于程序员的笑话：\\n\\n为什么程序员总是喜欢在海边工作？\\n\\n因为他们喜欢在“海”（“hi”）里调试（debug）！ </span>\n",
       "<span style=\"color: #008000; text-decoration-color: #008000\">\\n\\n希望你喜欢这个笑话！###'</span>,\n",
       "            <span style=\"color: #808000; text-decoration-color: #808000\">additional_kwargs</span>=<span style=\"font-weight: bold\">{}</span>,\n",
       "            <span style=\"color: #808000; text-decoration-color: #808000\">response_metadata</span>=<span style=\"font-weight: bold\">{}</span>\n",
       "        <span style=\"font-weight: bold\">)</span>\n",
       "    <span style=\"font-weight: bold\">]</span>\n",
       "<span style=\"font-weight: bold\">)</span>\n",
       "</pre>\n"
      ],
      "text/plain": [
       "\u001b[1;35mChatPromptValue\u001b[0m\u001b[1m(\u001b[0m\n",
       "    \u001b[33mmessages\u001b[0m=\u001b[1m[\u001b[0m\n",
       "        \u001b[1;35mHumanMessage\u001b[0m\u001b[1m(\u001b[0m\n",
       "            \u001b[33mcontent\u001b[0m=\u001b[32m'这两个笑话哪个比较好笑？笑话1： \u001b[0m\n",
       "\u001b[32m###当然可以！这里有一个关于程序员的笑话：\\n\\n有一天，程序员去海边度假。他看到海水很清澈，就决定下水游泳。结果，他一\u001b[0m\n",
       "\u001b[32m不小心被海浪卷走了。\\n\\n救生员看到后，立刻跳入水中，奋力游向他。等救生员把他救上岸后，程序员喘着气说：“谢谢你！我还\u001b[0m\n",
       "\u001b[32m以为我会被淹死呢！”\\n\\n救生员回答：“没关系，只要你保持冷静，按照‘游泳’的‘算法’就可以了！”\\n\\n程序员一愣：“什么是游\u001b[0m\n",
       "\u001b[32m泳的算法？”\\n\\n救生员笑着说：“就是不断地划水、呼吸，循环往复！”\\n\\n希望这个笑话能让你开心！###\\n笑话2：###当然可以\u001b[0m\n",
       "\u001b[32m！这是一个关于程序员的笑话：\\n\\n为什么程序员总是喜欢在海边工作？\\n\\n因为他们喜欢在“海”（“hi”）里调试（debug）！ \u001b[0m\n",
       "\u001b[32m\\n\\n希望你喜欢这个笑话！###'\u001b[0m,\n",
       "            \u001b[33madditional_kwargs\u001b[0m=\u001b[1m{\u001b[0m\u001b[1m}\u001b[0m,\n",
       "            \u001b[33mresponse_metadata\u001b[0m=\u001b[1m{\u001b[0m\u001b[1m}\u001b[0m\n",
       "        \u001b[1m)\u001b[0m\n",
       "    \u001b[1m]\u001b[0m\n",
       "\u001b[1m)\u001b[0m\n"
      ]
     },
     "metadata": {},
     "output_type": "display_data"
    },
    {
     "data": {
      "text/html": [
       "<pre style=\"white-space:pre;overflow-x:auto;line-height:normal;font-family:Menlo,'DejaVu Sans Mono',consolas,'Courier New',monospace\">这两个笑话各有特色，但风格不同。\n",
       "\n",
       "**笑话1** \n",
       "利用程序员的思维方式，将游泳比作编程中的算法，展现了程序员在面对生活中的困难时，依然保持逻辑思维的幽默感。这个笑话\n",
       "通过情节的设置和对话的反转，增加了趣味性。\n",
       "\n",
       "**笑话2** 则是一个简单的双关语，通过“海”（“hi”）和“调试”（debug）来制造幽默，较为直接和轻松。\n",
       "\n",
       "如果你喜欢带有情节和对话的幽默，可能会觉得笑话1更好笑；而如果你偏爱简洁的双关语，笑话2则更符合你的口味。总体来说，\n",
       "笑话1可能更有趣，因为它更具故事性和创意。你觉得呢？\n",
       "</pre>\n"
      ],
      "text/plain": [
       "这两个笑话各有特色，但风格不同。\n",
       "\n",
       "**笑话1** \n",
       "利用程序员的思维方式，将游泳比作编程中的算法，展现了程序员在面对生活中的困难时，依然保持逻辑思维的幽默感。这个笑话\n",
       "通过情节的设置和对话的反转，增加了趣味性。\n",
       "\n",
       "**笑话2** 则是一个简单的双关语，通过“海”（“hi”）和“调试”（debug）来制造幽默，较为直接和轻松。\n",
       "\n",
       "如果你喜欢带有情节和对话的幽默，可能会觉得笑话1更好笑；而如果你偏爱简洁的双关语，笑话2则更符合你的口味。总体来说，\n",
       "笑话1可能更有趣，因为它更具故事性和创意。你觉得呢？\n"
      ]
     },
     "metadata": {},
     "output_type": "display_data"
    }
   ],
   "source": [
    "# 并行链1\n",
    "from langchain_core.output_parsers import StrOutputParser\n",
    "from langchain_core.runnables import RunnableLambda\n",
    "\n",
    "\n",
    "analysis_prompt = ChatPromptTemplate.from_template(\"这两个笑话哪个比较好笑？笑话1： ###{joke1}###\\n笑话2：###{joke2}###\")\n",
    "\n",
    "composed_chain = {\"joke1\": chain, \"joke2\": chain} | RunnableLambda(print_input) | analysis_prompt | print_input | model | StrOutputParser()\n",
    "\n",
    "response = composed_chain.invoke({\"topic\":\"程序员\"})\n",
    "\n",
    "print(response)"
   ]
  },
  {
   "cell_type": "code",
   "execution_count": 6,
   "metadata": {},
   "outputs": [
    {
     "data": {
      "text/html": [
       "<pre style=\"white-space:pre;overflow-x:auto;line-height:normal;font-family:Menlo,'DejaVu Sans Mono',consolas,'Courier New',monospace\">input:\n",
       "</pre>\n"
      ],
      "text/plain": [
       "input:\n"
      ]
     },
     "metadata": {},
     "output_type": "display_data"
    },
    {
     "data": {
      "text/html": [
       "<pre style=\"white-space:pre;overflow-x:auto;line-height:normal;font-family:Menlo,'DejaVu Sans Mono',consolas,'Courier New',monospace\"><span style=\"color: #800080; text-decoration-color: #800080; font-weight: bold\">ChatPromptValue</span><span style=\"font-weight: bold\">(</span>\n",
       "    <span style=\"color: #808000; text-decoration-color: #808000\">messages</span>=<span style=\"font-weight: bold\">[</span><span style=\"color: #800080; text-decoration-color: #800080; font-weight: bold\">HumanMessage</span><span style=\"font-weight: bold\">(</span><span style=\"color: #808000; text-decoration-color: #808000\">content</span>=<span style=\"color: #008000; text-decoration-color: #008000\">'讲个关于[程序员]的笑话'</span>, <span style=\"color: #808000; text-decoration-color: #808000\">additional_kwargs</span>=<span style=\"font-weight: bold\">{}</span>, <span style=\"color: #808000; text-decoration-color: #808000\">response_metadata</span>=<span style=\"font-weight: bold\">{})]</span>\n",
       "<span style=\"font-weight: bold\">)</span>\n",
       "</pre>\n"
      ],
      "text/plain": [
       "\u001b[1;35mChatPromptValue\u001b[0m\u001b[1m(\u001b[0m\n",
       "    \u001b[33mmessages\u001b[0m=\u001b[1m[\u001b[0m\u001b[1;35mHumanMessage\u001b[0m\u001b[1m(\u001b[0m\u001b[33mcontent\u001b[0m=\u001b[32m'讲个关于\u001b[0m\u001b[32m[\u001b[0m\u001b[32m程序员\u001b[0m\u001b[32m]\u001b[0m\u001b[32m的笑话'\u001b[0m, \u001b[33madditional_kwargs\u001b[0m=\u001b[1m{\u001b[0m\u001b[1m}\u001b[0m, \u001b[33mresponse_metadata\u001b[0m=\u001b[1m{\u001b[0m\u001b[1m}\u001b[0m\u001b[1m)\u001b[0m\u001b[1m]\u001b[0m\n",
       "\u001b[1m)\u001b[0m\n"
      ]
     },
     "metadata": {},
     "output_type": "display_data"
    },
    {
     "data": {
      "text/html": [
       "<pre style=\"white-space:pre;overflow-x:auto;line-height:normal;font-family:Menlo,'DejaVu Sans Mono',consolas,'Courier New',monospace\">input:\n",
       "</pre>\n"
      ],
      "text/plain": [
       "input:\n"
      ]
     },
     "metadata": {},
     "output_type": "display_data"
    },
    {
     "data": {
      "text/html": [
       "<pre style=\"white-space:pre;overflow-x:auto;line-height:normal;font-family:Menlo,'DejaVu Sans Mono',consolas,'Courier New',monospace\"><span style=\"color: #800080; text-decoration-color: #800080; font-weight: bold\">ChatPromptValue</span><span style=\"font-weight: bold\">(</span>\n",
       "    <span style=\"color: #808000; text-decoration-color: #808000\">messages</span>=<span style=\"font-weight: bold\">[</span><span style=\"color: #800080; text-decoration-color: #800080; font-weight: bold\">HumanMessage</span><span style=\"font-weight: bold\">(</span><span style=\"color: #808000; text-decoration-color: #808000\">content</span>=<span style=\"color: #008000; text-decoration-color: #008000\">'讲个关于[程序员]的笑话'</span>, <span style=\"color: #808000; text-decoration-color: #808000\">additional_kwargs</span>=<span style=\"font-weight: bold\">{}</span>, <span style=\"color: #808000; text-decoration-color: #808000\">response_metadata</span>=<span style=\"font-weight: bold\">{})]</span>\n",
       "<span style=\"font-weight: bold\">)</span>\n",
       "</pre>\n"
      ],
      "text/plain": [
       "\u001b[1;35mChatPromptValue\u001b[0m\u001b[1m(\u001b[0m\n",
       "    \u001b[33mmessages\u001b[0m=\u001b[1m[\u001b[0m\u001b[1;35mHumanMessage\u001b[0m\u001b[1m(\u001b[0m\u001b[33mcontent\u001b[0m=\u001b[32m'讲个关于\u001b[0m\u001b[32m[\u001b[0m\u001b[32m程序员\u001b[0m\u001b[32m]\u001b[0m\u001b[32m的笑话'\u001b[0m, \u001b[33madditional_kwargs\u001b[0m=\u001b[1m{\u001b[0m\u001b[1m}\u001b[0m, \u001b[33mresponse_metadata\u001b[0m=\u001b[1m{\u001b[0m\u001b[1m}\u001b[0m\u001b[1m)\u001b[0m\u001b[1m]\u001b[0m\n",
       "\u001b[1m)\u001b[0m\n"
      ]
     },
     "metadata": {},
     "output_type": "display_data"
    },
    {
     "data": {
      "text/html": [
       "<pre style=\"white-space:pre;overflow-x:auto;line-height:normal;font-family:Menlo,'DejaVu Sans Mono',consolas,'Courier New',monospace\">input:\n",
       "</pre>\n"
      ],
      "text/plain": [
       "input:\n"
      ]
     },
     "metadata": {},
     "output_type": "display_data"
    },
    {
     "data": {
      "text/html": [
       "<pre style=\"white-space:pre;overflow-x:auto;line-height:normal;font-family:Menlo,'DejaVu Sans Mono',consolas,'Courier New',monospace\"><span style=\"font-weight: bold\">{</span>\n",
       "    <span style=\"color: #008000; text-decoration-color: #008000\">'joke1'</span>: \n",
       "<span style=\"color: #008000; text-decoration-color: #008000\">'当然可以！这是一个关于程序员的笑话：\\n\\n有一天，一个程序员走进酒吧，点了一杯啤酒。酒保问他：“你要怎么喝？”\\n\\n程序</span>\n",
       "<span style=\"color: #008000; text-decoration-color: #008000\">员回答：“当然是先打开瓶盖，然后倒入杯中，再喝！”\\n\\n酒保一脸困惑地说：“这不是很简单吗？”\\n\\n程序员笑着说：“你不知道</span>\n",
       "<span style=\"color: #008000; text-decoration-color: #008000\">，很多人都直接把瓶子拿起来喝，结果总是出错！”\\n\\n希望你喜欢这个笑话！'</span>,\n",
       "    <span style=\"color: #008000; text-decoration-color: #008000\">'joke2'</span>: \n",
       "<span style=\"color: #008000; text-decoration-color: #008000\">'当然可以！这是一个关于程序员的笑话：\\n\\n有一天，一个程序员走进了酒吧，点了一杯酒。喝完后，他发现自己没带钱包。于是</span>\n",
       "<span style=\"color: #008000; text-decoration-color: #008000\">他对 bartender 说：“我可以用代码来支付吗？”\\n\\nbartender </span>\n",
       "<span style=\"color: #008000; text-decoration-color: #008000\">想了想，回答说：“你能写出一段代码来解决这个问题吗？”\\n\\n程序员立刻打开笔记本，开始编写代码。过了一会儿，他自信地说</span>\n",
       "<span style=\"color: #008000; text-decoration-color: #008000\">：“好了，我写了一段代码，运行后就能生成现金。”\\n\\nbartender </span>\n",
       "<span style=\"color: #008000; text-decoration-color: #008000\">看了看他的代码，摇摇头说：“你确定这是一个有效的程序吗？因为我觉得你只是写了一段‘空’代码。”\\n\\n程序员愣了一下，随即</span>\n",
       "<span style=\"color: #008000; text-decoration-color: #008000\">反应过来：“哦，原来是因为我没有‘返回’值！”\\n\\n希望这个笑话能让你会心一笑！'</span>\n",
       "<span style=\"font-weight: bold\">}</span>\n",
       "</pre>\n"
      ],
      "text/plain": [
       "\u001b[1m{\u001b[0m\n",
       "    \u001b[32m'joke1'\u001b[0m: \n",
       "\u001b[32m'当然可以！这是一个关于程序员的笑话：\\n\\n有一天，一个程序员走进酒吧，点了一杯啤酒。酒保问他：“你要怎么喝？”\\n\\n程序\u001b[0m\n",
       "\u001b[32m员回答：“当然是先打开瓶盖，然后倒入杯中，再喝！”\\n\\n酒保一脸困惑地说：“这不是很简单吗？”\\n\\n程序员笑着说：“你不知道\u001b[0m\n",
       "\u001b[32m，很多人都直接把瓶子拿起来喝，结果总是出错！”\\n\\n希望你喜欢这个笑话！'\u001b[0m,\n",
       "    \u001b[32m'joke2'\u001b[0m: \n",
       "\u001b[32m'当然可以！这是一个关于程序员的笑话：\\n\\n有一天，一个程序员走进了酒吧，点了一杯酒。喝完后，他发现自己没带钱包。于是\u001b[0m\n",
       "\u001b[32m他对 bartender 说：“我可以用代码来支付吗？”\\n\\nbartender \u001b[0m\n",
       "\u001b[32m想了想，回答说：“你能写出一段代码来解决这个问题吗？”\\n\\n程序员立刻打开笔记本，开始编写代码。过了一会儿，他自信地说\u001b[0m\n",
       "\u001b[32m：“好了，我写了一段代码，运行后就能生成现金。”\\n\\nbartender \u001b[0m\n",
       "\u001b[32m看了看他的代码，摇摇头说：“你确定这是一个有效的程序吗？因为我觉得你只是写了一段‘空’代码。”\\n\\n程序员愣了一下，随即\u001b[0m\n",
       "\u001b[32m反应过来：“哦，原来是因为我没有‘返回’值！”\\n\\n希望这个笑话能让你会心一笑！'\u001b[0m\n",
       "\u001b[1m}\u001b[0m\n"
      ]
     },
     "metadata": {},
     "output_type": "display_data"
    },
    {
     "data": {
      "text/html": [
       "<pre style=\"white-space:pre;overflow-x:auto;line-height:normal;font-family:Menlo,'DejaVu Sans Mono',consolas,'Courier New',monospace\">input:\n",
       "</pre>\n"
      ],
      "text/plain": [
       "input:\n"
      ]
     },
     "metadata": {},
     "output_type": "display_data"
    },
    {
     "data": {
      "text/html": [
       "<pre style=\"white-space:pre;overflow-x:auto;line-height:normal;font-family:Menlo,'DejaVu Sans Mono',consolas,'Courier New',monospace\"><span style=\"color: #800080; text-decoration-color: #800080; font-weight: bold\">ChatPromptValue</span><span style=\"font-weight: bold\">(</span>\n",
       "    <span style=\"color: #808000; text-decoration-color: #808000\">messages</span>=<span style=\"font-weight: bold\">[</span>\n",
       "        <span style=\"color: #800080; text-decoration-color: #800080; font-weight: bold\">HumanMessage</span><span style=\"font-weight: bold\">(</span>\n",
       "            <span style=\"color: #808000; text-decoration-color: #808000\">content</span>=<span style=\"color: #008000; text-decoration-color: #008000\">'这两个笑话哪个比较好笑？笑话1： </span>\n",
       "<span style=\"color: #008000; text-decoration-color: #008000\">###当然可以！这是一个关于程序员的笑话：\\n\\n有一天，一个程序员走进酒吧，点了一杯啤酒。酒保问他：“你要怎么喝？”\\n\\n程</span>\n",
       "<span style=\"color: #008000; text-decoration-color: #008000\">序员回答：“当然是先打开瓶盖，然后倒入杯中，再喝！”\\n\\n酒保一脸困惑地说：“这不是很简单吗？”\\n\\n程序员笑着说：“你不知</span>\n",
       "<span style=\"color: #008000; text-decoration-color: #008000\">道，很多人都直接把瓶子拿起来喝，结果总是出错！”\\n\\n希望你喜欢这个笑话！###\\n笑话2：###当然可以！这是一个关于程序员</span>\n",
       "<span style=\"color: #008000; text-decoration-color: #008000\">的笑话：\\n\\n有一天，一个程序员走进了酒吧，点了一杯酒。喝完后，他发现自己没带钱包。于是他对 bartender </span>\n",
       "<span style=\"color: #008000; text-decoration-color: #008000\">说：“我可以用代码来支付吗？”\\n\\nbartender </span>\n",
       "<span style=\"color: #008000; text-decoration-color: #008000\">想了想，回答说：“你能写出一段代码来解决这个问题吗？”\\n\\n程序员立刻打开笔记本，开始编写代码。过了一会儿，他自信地说</span>\n",
       "<span style=\"color: #008000; text-decoration-color: #008000\">：“好了，我写了一段代码，运行后就能生成现金。”\\n\\nbartender </span>\n",
       "<span style=\"color: #008000; text-decoration-color: #008000\">看了看他的代码，摇摇头说：“你确定这是一个有效的程序吗？因为我觉得你只是写了一段‘空’代码。”\\n\\n程序员愣了一下，随即</span>\n",
       "<span style=\"color: #008000; text-decoration-color: #008000\">反应过来：“哦，原来是因为我没有‘返回’值！”\\n\\n希望这个笑话能让你会心一笑！###'</span>,\n",
       "            <span style=\"color: #808000; text-decoration-color: #808000\">additional_kwargs</span>=<span style=\"font-weight: bold\">{}</span>,\n",
       "            <span style=\"color: #808000; text-decoration-color: #808000\">response_metadata</span>=<span style=\"font-weight: bold\">{}</span>\n",
       "        <span style=\"font-weight: bold\">)</span>\n",
       "    <span style=\"font-weight: bold\">]</span>\n",
       "<span style=\"font-weight: bold\">)</span>\n",
       "</pre>\n"
      ],
      "text/plain": [
       "\u001b[1;35mChatPromptValue\u001b[0m\u001b[1m(\u001b[0m\n",
       "    \u001b[33mmessages\u001b[0m=\u001b[1m[\u001b[0m\n",
       "        \u001b[1;35mHumanMessage\u001b[0m\u001b[1m(\u001b[0m\n",
       "            \u001b[33mcontent\u001b[0m=\u001b[32m'这两个笑话哪个比较好笑？笑话1： \u001b[0m\n",
       "\u001b[32m###当然可以！这是一个关于程序员的笑话：\\n\\n有一天，一个程序员走进酒吧，点了一杯啤酒。酒保问他：“你要怎么喝？”\\n\\n程\u001b[0m\n",
       "\u001b[32m序员回答：“当然是先打开瓶盖，然后倒入杯中，再喝！”\\n\\n酒保一脸困惑地说：“这不是很简单吗？”\\n\\n程序员笑着说：“你不知\u001b[0m\n",
       "\u001b[32m道，很多人都直接把瓶子拿起来喝，结果总是出错！”\\n\\n希望你喜欢这个笑话！###\\n笑话2：###当然可以！这是一个关于程序员\u001b[0m\n",
       "\u001b[32m的笑话：\\n\\n有一天，一个程序员走进了酒吧，点了一杯酒。喝完后，他发现自己没带钱包。于是他对 bartender \u001b[0m\n",
       "\u001b[32m说：“我可以用代码来支付吗？”\\n\\nbartender \u001b[0m\n",
       "\u001b[32m想了想，回答说：“你能写出一段代码来解决这个问题吗？”\\n\\n程序员立刻打开笔记本，开始编写代码。过了一会儿，他自信地说\u001b[0m\n",
       "\u001b[32m：“好了，我写了一段代码，运行后就能生成现金。”\\n\\nbartender \u001b[0m\n",
       "\u001b[32m看了看他的代码，摇摇头说：“你确定这是一个有效的程序吗？因为我觉得你只是写了一段‘空’代码。”\\n\\n程序员愣了一下，随即\u001b[0m\n",
       "\u001b[32m反应过来：“哦，原来是因为我没有‘返回’值！”\\n\\n希望这个笑话能让你会心一笑！###'\u001b[0m,\n",
       "            \u001b[33madditional_kwargs\u001b[0m=\u001b[1m{\u001b[0m\u001b[1m}\u001b[0m,\n",
       "            \u001b[33mresponse_metadata\u001b[0m=\u001b[1m{\u001b[0m\u001b[1m}\u001b[0m\n",
       "        \u001b[1m)\u001b[0m\n",
       "    \u001b[1m]\u001b[0m\n",
       "\u001b[1m)\u001b[0m\n"
      ]
     },
     "metadata": {},
     "output_type": "display_data"
    },
    {
     "data": {
      "text/html": [
       "<pre style=\"white-space:pre;overflow-x:auto;line-height:normal;font-family:Menlo,'DejaVu Sans Mono',consolas,'Courier New',monospace\">这两个笑话各有特色，适合不同的幽默风格。\n",
       "\n",
       "**笑话1**通过程序员的逻辑思维展示了程序员特有的思维方式，利用了对日常行为的夸张和幽默，适合喜欢简单直接幽默的人。\n",
       "\n",
       "**笑话2**则结合了程序员的专业背景，涉及代码和“返回值”的概念，适合那些对编程有一定了解的人。这个笑话的幽默在于程序员\n",
       "的思维方式和酒保的反应之间的对比。\n",
       "\n",
       "总体来说，如果你喜欢简单直接的幽默，可能会觉得笑话1更好笑；而如果你对编程有一定了解，笑话2可能会让你会心一笑。你更\n",
       "倾向于哪种风格呢？\n",
       "</pre>\n"
      ],
      "text/plain": [
       "这两个笑话各有特色，适合不同的幽默风格。\n",
       "\n",
       "**笑话1**通过程序员的逻辑思维展示了程序员特有的思维方式，利用了对日常行为的夸张和幽默，适合喜欢简单直接幽默的人。\n",
       "\n",
       "**笑话2**则结合了程序员的专业背景，涉及代码和“返回值”的概念，适合那些对编程有一定了解的人。这个笑话的幽默在于程序员\n",
       "的思维方式和酒保的反应之间的对比。\n",
       "\n",
       "总体来说，如果你喜欢简单直接的幽默，可能会觉得笑话1更好笑；而如果你对编程有一定了解，笑话2可能会让你会心一笑。你更\n",
       "倾向于哪种风格呢？\n"
      ]
     },
     "metadata": {},
     "output_type": "display_data"
    }
   ],
   "source": [
    "# 并行链2\n",
    "from langchain_core.output_parsers import StrOutputParser\n",
    "from langchain_core.runnables import RunnableLambda\n",
    "from langchain_core.runnables import RunnableParallel\n",
    "\n",
    "\n",
    "\n",
    "\n",
    "analysis_prompt = ChatPromptTemplate.from_template(\"这两个笑话哪个比较好笑？笑话1： ###{joke1}###\\n笑话2：###{joke2}###\")\n",
    "\n",
    "composed_chain = RunnableParallel( joke1 = chain, joke2 = chain) | print_input | analysis_prompt | print_input | model | StrOutputParser()\n",
    "\n",
    "response = composed_chain.invoke({\"topic\":\"程序员\"})\n",
    "\n",
    "print(response)"
   ]
  }
 ],
 "metadata": {
  "kernelspec": {
   "display_name": "3.11.9",
   "language": "python",
   "name": "python3"
  },
  "language_info": {
   "codemirror_mode": {
    "name": "ipython",
    "version": 3
   },
   "file_extension": ".py",
   "mimetype": "text/x-python",
   "name": "python",
   "nbconvert_exporter": "python",
   "pygments_lexer": "ipython3",
   "version": "3.11.9"
  }
 },
 "nbformat": 4,
 "nbformat_minor": 2
}
