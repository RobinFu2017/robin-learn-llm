{
 "cells": [
  {
   "cell_type": "code",
   "execution_count": 1,
   "metadata": {},
   "outputs": [
    {
     "data": {
      "text/html": [
       "<pre style=\"white-space:pre;overflow-x:auto;line-height:normal;font-family:Menlo,'DejaVu Sans Mono',consolas,'Courier New',monospace\">feDQ_PgoX1O2rvNpHboA\n",
       "</pre>\n"
      ],
      "text/plain": [
       "feDQ_PgoX1O2rvNpHboA\n"
      ]
     },
     "metadata": {},
     "output_type": "display_data"
    }
   ],
   "source": [
    "# 引入rich打印\n",
    "from rich import print\n",
    "from set_env import set_open_ai_key,print_input,gothrough\n",
    "\n",
    "set_open_ai_key()\n",
    "\n"
   ]
  },
  {
   "cell_type": "code",
   "execution_count": 2,
   "metadata": {},
   "outputs": [],
   "source": [
    "# 定义模型\n",
    "from langchain_openai import ChatOpenAI\n",
    "\n",
    "model = ChatOpenAI(model=\"gpt-4o-mini\")"
   ]
  },
  {
   "cell_type": "code",
   "execution_count": 3,
   "metadata": {},
   "outputs": [
    {
     "data": {
      "text/html": [
       "<pre style=\"white-space:pre;overflow-x:auto;line-height:normal;font-family:Menlo,'DejaVu Sans Mono',consolas,'Courier New',monospace\">input:\n",
       "</pre>\n"
      ],
      "text/plain": [
       "input:\n"
      ]
     },
     "metadata": {},
     "output_type": "display_data"
    },
    {
     "data": {
      "text/html": [
       "<pre style=\"white-space:pre;overflow-x:auto;line-height:normal;font-family:Menlo,'DejaVu Sans Mono',consolas,'Courier New',monospace\"><span style=\"color: #800080; text-decoration-color: #800080; font-weight: bold\">ChatPromptValue</span><span style=\"font-weight: bold\">(</span><span style=\"color: #808000; text-decoration-color: #808000\">messages</span>=<span style=\"font-weight: bold\">[</span><span style=\"color: #800080; text-decoration-color: #800080; font-weight: bold\">HumanMessage</span><span style=\"font-weight: bold\">(</span><span style=\"color: #808000; text-decoration-color: #808000\">content</span>=<span style=\"color: #008000; text-decoration-color: #008000\">'讲个关于[程序员]的笑话'</span><span style=\"font-weight: bold\">)])</span>\n",
       "</pre>\n"
      ],
      "text/plain": [
       "\u001b[1;35mChatPromptValue\u001b[0m\u001b[1m(\u001b[0m\u001b[33mmessages\u001b[0m=\u001b[1m[\u001b[0m\u001b[1;35mHumanMessage\u001b[0m\u001b[1m(\u001b[0m\u001b[33mcontent\u001b[0m=\u001b[32m'讲个关于\u001b[0m\u001b[32m[\u001b[0m\u001b[32m程序员\u001b[0m\u001b[32m]\u001b[0m\u001b[32m的笑话'\u001b[0m\u001b[1m)\u001b[0m\u001b[1m]\u001b[0m\u001b[1m)\u001b[0m\n"
      ]
     },
     "metadata": {},
     "output_type": "display_data"
    },
    {
     "data": {
      "text/html": [
       "<pre style=\"white-space:pre;overflow-x:auto;line-height:normal;font-family:Menlo,'DejaVu Sans Mono',consolas,'Courier New',monospace\">当然可以！以下是一个关于程序员的笑话：\n",
       "\n",
       "有一天，程序员走进一家酒吧，点了一杯啤酒。酒保问他：“你要什么样的啤酒？”\n",
       "\n",
       "程序员回答：“随便，反正我会把它调试好的！”\n",
       "\n",
       "酒保一愣，然后问：“那你喝多少？”\n",
       "\n",
       "程序员说：“只要不崩溃就行！”\n",
       "\n",
       "希望这个笑话能让你笑一笑！\n",
       "</pre>\n"
      ],
      "text/plain": [
       "当然可以！以下是一个关于程序员的笑话：\n",
       "\n",
       "有一天，程序员走进一家酒吧，点了一杯啤酒。酒保问他：“你要什么样的啤酒？”\n",
       "\n",
       "程序员回答：“随便，反正我会把它调试好的！”\n",
       "\n",
       "酒保一愣，然后问：“那你喝多少？”\n",
       "\n",
       "程序员说：“只要不崩溃就行！”\n",
       "\n",
       "希望这个笑话能让你笑一笑！\n"
      ]
     },
     "metadata": {},
     "output_type": "display_data"
    }
   ],
   "source": [
    "# 简单的链\n",
    "from langchain_core.output_parsers import StrOutputParser\n",
    "from langchain_core.prompts import ChatPromptTemplate\n",
    "\n",
    "prompt = ChatPromptTemplate.from_template(\"讲个关于[{topic}]的笑话\")\n",
    "\n",
    "chain = prompt | print_input| model | StrOutputParser()\n",
    "\n",
    "response = chain.invoke({\"topic\": \"程序员\"})\n",
    "print(response)"
   ]
  },
  {
   "cell_type": "code",
   "execution_count": 4,
   "metadata": {},
   "outputs": [
    {
     "data": {
      "text/html": [
       "<pre style=\"white-space:pre;overflow-x:auto;line-height:normal;font-family:Menlo,'DejaVu Sans Mono',consolas,'Courier New',monospace\">input:\n",
       "</pre>\n"
      ],
      "text/plain": [
       "input:\n"
      ]
     },
     "metadata": {},
     "output_type": "display_data"
    },
    {
     "data": {
      "text/html": [
       "<pre style=\"white-space:pre;overflow-x:auto;line-height:normal;font-family:Menlo,'DejaVu Sans Mono',consolas,'Courier New',monospace\"><span style=\"color: #800080; text-decoration-color: #800080; font-weight: bold\">ChatPromptValue</span><span style=\"font-weight: bold\">(</span><span style=\"color: #808000; text-decoration-color: #808000\">messages</span>=<span style=\"font-weight: bold\">[</span><span style=\"color: #800080; text-decoration-color: #800080; font-weight: bold\">HumanMessage</span><span style=\"font-weight: bold\">(</span><span style=\"color: #808000; text-decoration-color: #808000\">content</span>=<span style=\"color: #008000; text-decoration-color: #008000\">'讲个关于[bears]的笑话'</span><span style=\"font-weight: bold\">)])</span>\n",
       "</pre>\n"
      ],
      "text/plain": [
       "\u001b[1;35mChatPromptValue\u001b[0m\u001b[1m(\u001b[0m\u001b[33mmessages\u001b[0m=\u001b[1m[\u001b[0m\u001b[1;35mHumanMessage\u001b[0m\u001b[1m(\u001b[0m\u001b[33mcontent\u001b[0m=\u001b[32m'讲个关于\u001b[0m\u001b[32m[\u001b[0m\u001b[32mbears\u001b[0m\u001b[32m]\u001b[0m\u001b[32m的笑话'\u001b[0m\u001b[1m)\u001b[0m\u001b[1m]\u001b[0m\u001b[1m)\u001b[0m\n"
      ]
     },
     "metadata": {},
     "output_type": "display_data"
    },
    {
     "data": {
      "text/html": [
       "<pre style=\"white-space:pre;overflow-x:auto;line-height:normal;font-family:Menlo,'DejaVu Sans Mono',consolas,'Courier New',monospace\">input:\n",
       "</pre>\n"
      ],
      "text/plain": [
       "input:\n"
      ]
     },
     "metadata": {},
     "output_type": "display_data"
    },
    {
     "data": {
      "text/html": [
       "<pre style=\"white-space:pre;overflow-x:auto;line-height:normal;font-family:Menlo,'DejaVu Sans Mono',consolas,'Courier New',monospace\"><span style=\"font-weight: bold\">{</span>\n",
       "    <span style=\"color: #008000; text-decoration-color: #008000\">'joke'</span>: \n",
       "<span style=\"color: #008000; text-decoration-color: #008000\">'当然可以！这里有一个关于熊的笑话：\\n\\n为什么熊总是带着一块蜂蜜？\\n\\n因为它们想要“甜蜜”的生活！🐻🍯\\n\\n希望你喜欢这</span>\n",
       "<span style=\"color: #008000; text-decoration-color: #008000\">个笑话！'</span>\n",
       "<span style=\"font-weight: bold\">}</span>\n",
       "</pre>\n"
      ],
      "text/plain": [
       "\u001b[1m{\u001b[0m\n",
       "    \u001b[32m'joke'\u001b[0m: \n",
       "\u001b[32m'当然可以！这里有一个关于熊的笑话：\\n\\n为什么熊总是带着一块蜂蜜？\\n\\n因为它们想要“甜蜜”的生活！🐻🍯\\n\\n希望你喜欢这\u001b[0m\n",
       "\u001b[32m个笑话！'\u001b[0m\n",
       "\u001b[1m}\u001b[0m\n"
      ]
     },
     "metadata": {},
     "output_type": "display_data"
    },
    {
     "data": {
      "text/html": [
       "<pre style=\"white-space:pre;overflow-x:auto;line-height:normal;font-family:Menlo,'DejaVu Sans Mono',consolas,'Courier New',monospace\">input:\n",
       "</pre>\n"
      ],
      "text/plain": [
       "input:\n"
      ]
     },
     "metadata": {},
     "output_type": "display_data"
    },
    {
     "data": {
      "text/html": [
       "<pre style=\"white-space:pre;overflow-x:auto;line-height:normal;font-family:Menlo,'DejaVu Sans Mono',consolas,'Courier New',monospace\"><span style=\"color: #800080; text-decoration-color: #800080; font-weight: bold\">ChatPromptValue</span><span style=\"font-weight: bold\">(</span>\n",
       "    <span style=\"color: #808000; text-decoration-color: #808000\">messages</span>=<span style=\"font-weight: bold\">[</span>\n",
       "        <span style=\"color: #800080; text-decoration-color: #800080; font-weight: bold\">HumanMessage</span><span style=\"font-weight: bold\">(</span>\n",
       "            <span style=\"color: #808000; text-decoration-color: #808000\">content</span>=<span style=\"color: #008000; text-decoration-color: #008000\">'这好笑吗?【当然可以！这里有一个关于熊的笑话：\\n\\n为什么熊总是带着一块蜂蜜？\\n\\n因为它们想要“甜</span>\n",
       "<span style=\"color: #008000; text-decoration-color: #008000\">蜜”的生活！🐻🍯\\n\\n希望你喜欢这个笑话！】'</span>\n",
       "        <span style=\"font-weight: bold\">)</span>\n",
       "    <span style=\"font-weight: bold\">]</span>\n",
       "<span style=\"font-weight: bold\">)</span>\n",
       "</pre>\n"
      ],
      "text/plain": [
       "\u001b[1;35mChatPromptValue\u001b[0m\u001b[1m(\u001b[0m\n",
       "    \u001b[33mmessages\u001b[0m=\u001b[1m[\u001b[0m\n",
       "        \u001b[1;35mHumanMessage\u001b[0m\u001b[1m(\u001b[0m\n",
       "            \u001b[33mcontent\u001b[0m=\u001b[32m'这好笑吗?【当然可以！这里有一个关于熊的笑话：\\n\\n为什么熊总是带着一块蜂蜜？\\n\\n因为它们想要“甜\u001b[0m\n",
       "\u001b[32m蜜”的生活！🐻🍯\\n\\n希望你喜欢这个笑话！】'\u001b[0m\n",
       "        \u001b[1m)\u001b[0m\n",
       "    \u001b[1m]\u001b[0m\n",
       "\u001b[1m)\u001b[0m\n"
      ]
     },
     "metadata": {},
     "output_type": "display_data"
    },
    {
     "data": {
      "text/html": [
       "<pre style=\"white-space:pre;overflow-x:auto;line-height:normal;font-family:Menlo,'DejaVu Sans Mono',consolas,'Courier New',monospace\">哈哈，这个笑话挺可爱的！熊和蜂蜜的搭配总是让人联想到甜蜜的感觉。你还想听更多笑话吗？\n",
       "</pre>\n"
      ],
      "text/plain": [
       "哈哈，这个笑话挺可爱的！熊和蜂蜜的搭配总是让人联想到甜蜜的感觉。你还想听更多笑话吗？\n"
      ]
     },
     "metadata": {},
     "output_type": "display_data"
    }
   ],
   "source": [
    "# 链嵌套\n",
    "from langchain_core.output_parsers import StrOutputParser\n",
    "from langchain_core.runnables import RunnableLambda\n",
    "\n",
    "analysis_prompt = ChatPromptTemplate.from_template(\"这好笑吗?【{joke}】\")\n",
    "\n",
    "composed_chain = {\"joke\": chain} |RunnableLambda(print_input)| analysis_prompt |print_input| model | StrOutputParser()\n",
    "\n",
    "response = composed_chain.invoke({\"topic\": \"bears\"})\n",
    "\n",
    "print(response)"
   ]
  },
  {
   "cell_type": "code",
   "execution_count": 5,
   "metadata": {},
   "outputs": [
    {
     "data": {
      "text/html": [
       "<pre style=\"white-space:pre;overflow-x:auto;line-height:normal;font-family:Menlo,'DejaVu Sans Mono',consolas,'Courier New',monospace\">input:\n",
       "</pre>\n"
      ],
      "text/plain": [
       "input:\n"
      ]
     },
     "metadata": {},
     "output_type": "display_data"
    },
    {
     "data": {
      "text/html": [
       "<pre style=\"white-space:pre;overflow-x:auto;line-height:normal;font-family:Menlo,'DejaVu Sans Mono',consolas,'Courier New',monospace\">input:\n",
       "</pre>\n"
      ],
      "text/plain": [
       "input:\n"
      ]
     },
     "metadata": {},
     "output_type": "display_data"
    },
    {
     "data": {
      "text/html": [
       "<pre style=\"white-space:pre;overflow-x:auto;line-height:normal;font-family:Menlo,'DejaVu Sans Mono',consolas,'Courier New',monospace\"><span style=\"color: #800080; text-decoration-color: #800080; font-weight: bold\">ChatPromptValue</span><span style=\"font-weight: bold\">(</span><span style=\"color: #808000; text-decoration-color: #808000\">messages</span>=<span style=\"font-weight: bold\">[</span><span style=\"color: #800080; text-decoration-color: #800080; font-weight: bold\">HumanMessage</span><span style=\"font-weight: bold\">(</span><span style=\"color: #808000; text-decoration-color: #808000\">content</span>=<span style=\"color: #008000; text-decoration-color: #008000\">'讲个关于[程序员]的笑话'</span><span style=\"font-weight: bold\">)])</span>\n",
       "</pre>\n"
      ],
      "text/plain": [
       "\u001b[1;35mChatPromptValue\u001b[0m\u001b[1m(\u001b[0m\u001b[33mmessages\u001b[0m=\u001b[1m[\u001b[0m\u001b[1;35mHumanMessage\u001b[0m\u001b[1m(\u001b[0m\u001b[33mcontent\u001b[0m=\u001b[32m'讲个关于\u001b[0m\u001b[32m[\u001b[0m\u001b[32m程序员\u001b[0m\u001b[32m]\u001b[0m\u001b[32m的笑话'\u001b[0m\u001b[1m)\u001b[0m\u001b[1m]\u001b[0m\u001b[1m)\u001b[0m\n"
      ]
     },
     "metadata": {},
     "output_type": "display_data"
    },
    {
     "data": {
      "text/html": [
       "<pre style=\"white-space:pre;overflow-x:auto;line-height:normal;font-family:Menlo,'DejaVu Sans Mono',consolas,'Courier New',monospace\"><span style=\"color: #800080; text-decoration-color: #800080; font-weight: bold\">ChatPromptValue</span><span style=\"font-weight: bold\">(</span><span style=\"color: #808000; text-decoration-color: #808000\">messages</span>=<span style=\"font-weight: bold\">[</span><span style=\"color: #800080; text-decoration-color: #800080; font-weight: bold\">HumanMessage</span><span style=\"font-weight: bold\">(</span><span style=\"color: #808000; text-decoration-color: #808000\">content</span>=<span style=\"color: #008000; text-decoration-color: #008000\">'讲个关于[程序员]的笑话'</span><span style=\"font-weight: bold\">)])</span>\n",
       "</pre>\n"
      ],
      "text/plain": [
       "\u001b[1;35mChatPromptValue\u001b[0m\u001b[1m(\u001b[0m\u001b[33mmessages\u001b[0m=\u001b[1m[\u001b[0m\u001b[1;35mHumanMessage\u001b[0m\u001b[1m(\u001b[0m\u001b[33mcontent\u001b[0m=\u001b[32m'讲个关于\u001b[0m\u001b[32m[\u001b[0m\u001b[32m程序员\u001b[0m\u001b[32m]\u001b[0m\u001b[32m的笑话'\u001b[0m\u001b[1m)\u001b[0m\u001b[1m]\u001b[0m\u001b[1m)\u001b[0m\n"
      ]
     },
     "metadata": {},
     "output_type": "display_data"
    },
    {
     "data": {
      "text/html": [
       "<pre style=\"white-space:pre;overflow-x:auto;line-height:normal;font-family:Menlo,'DejaVu Sans Mono',consolas,'Courier New',monospace\">input:\n",
       "</pre>\n"
      ],
      "text/plain": [
       "input:\n"
      ]
     },
     "metadata": {},
     "output_type": "display_data"
    },
    {
     "data": {
      "text/html": [
       "<pre style=\"white-space:pre;overflow-x:auto;line-height:normal;font-family:Menlo,'DejaVu Sans Mono',consolas,'Courier New',monospace\"><span style=\"font-weight: bold\">{</span>\n",
       "    <span style=\"color: #008000; text-decoration-color: #008000\">'joke1'</span>: \n",
       "<span style=\"color: #008000; text-decoration-color: #008000\">'当然可以！这里有一个程序员的笑话：\\n\\n有一天，一位程序员走进酒吧，点了一杯酒。酒保问他：“你为什么看起来这么沮丧？”</span>\n",
       "<span style=\"color: #008000; text-decoration-color: #008000\">\\n\\n程序员叹了口气说：“我最近在调试代码，发现我只是在不断地解决问题，却没有找到真正的解决方案。”\\n\\n酒保笑着说：“那</span>\n",
       "<span style=\"color: #008000; text-decoration-color: #008000\">你为什么不直接重启一下？”\\n\\n程序员愣了一下，然后哈哈大笑：“对啊，生活也需要重启！”\\n\\n希望这个笑话让你开心！'</span>,\n",
       "    <span style=\"color: #008000; text-decoration-color: #008000\">'joke2'</span>: \n",
       "<span style=\"color: #008000; text-decoration-color: #008000\">'当然可以！这里有一个关于程序员的笑话：\\n\\n为什么程序员总是喜欢在黑暗中工作？\\n\\n因为他们害怕“光标”闪烁！ </span>\n",
       "<span style=\"color: #008000; text-decoration-color: #008000\">\\n\\n希望你喜欢这个笑话！如果想听更多，随时告诉我！'</span>\n",
       "<span style=\"font-weight: bold\">}</span>\n",
       "</pre>\n"
      ],
      "text/plain": [
       "\u001b[1m{\u001b[0m\n",
       "    \u001b[32m'joke1'\u001b[0m: \n",
       "\u001b[32m'当然可以！这里有一个程序员的笑话：\\n\\n有一天，一位程序员走进酒吧，点了一杯酒。酒保问他：“你为什么看起来这么沮丧？”\u001b[0m\n",
       "\u001b[32m\\n\\n程序员叹了口气说：“我最近在调试代码，发现我只是在不断地解决问题，却没有找到真正的解决方案。”\\n\\n酒保笑着说：“那\u001b[0m\n",
       "\u001b[32m你为什么不直接重启一下？”\\n\\n程序员愣了一下，然后哈哈大笑：“对啊，生活也需要重启！”\\n\\n希望这个笑话让你开心！'\u001b[0m,\n",
       "    \u001b[32m'joke2'\u001b[0m: \n",
       "\u001b[32m'当然可以！这里有一个关于程序员的笑话：\\n\\n为什么程序员总是喜欢在黑暗中工作？\\n\\n因为他们害怕“光标”闪烁！ \u001b[0m\n",
       "\u001b[32m\\n\\n希望你喜欢这个笑话！如果想听更多，随时告诉我！'\u001b[0m\n",
       "\u001b[1m}\u001b[0m\n"
      ]
     },
     "metadata": {},
     "output_type": "display_data"
    },
    {
     "data": {
      "text/html": [
       "<pre style=\"white-space:pre;overflow-x:auto;line-height:normal;font-family:Menlo,'DejaVu Sans Mono',consolas,'Courier New',monospace\">input:\n",
       "</pre>\n"
      ],
      "text/plain": [
       "input:\n"
      ]
     },
     "metadata": {},
     "output_type": "display_data"
    },
    {
     "data": {
      "text/html": [
       "<pre style=\"white-space:pre;overflow-x:auto;line-height:normal;font-family:Menlo,'DejaVu Sans Mono',consolas,'Courier New',monospace\"><span style=\"color: #800080; text-decoration-color: #800080; font-weight: bold\">ChatPromptValue</span><span style=\"font-weight: bold\">(</span>\n",
       "    <span style=\"color: #808000; text-decoration-color: #808000\">messages</span>=<span style=\"font-weight: bold\">[</span>\n",
       "        <span style=\"color: #800080; text-decoration-color: #800080; font-weight: bold\">HumanMessage</span><span style=\"font-weight: bold\">(</span>\n",
       "            <span style=\"color: #808000; text-decoration-color: #808000\">content</span>=<span style=\"color: #008000; text-decoration-color: #008000\">'这两个笑话哪个比较好笑？笑话1： </span>\n",
       "<span style=\"color: #008000; text-decoration-color: #008000\">###当然可以！这里有一个程序员的笑话：\\n\\n有一天，一位程序员走进酒吧，点了一杯酒。酒保问他：“你为什么看起来这么沮丧</span>\n",
       "<span style=\"color: #008000; text-decoration-color: #008000\">？”\\n\\n程序员叹了口气说：“我最近在调试代码，发现我只是在不断地解决问题，却没有找到真正的解决方案。”\\n\\n酒保笑着说：</span>\n",
       "<span style=\"color: #008000; text-decoration-color: #008000\">“那你为什么不直接重启一下？”\\n\\n程序员愣了一下，然后哈哈大笑：“对啊，生活也需要重启！”\\n\\n希望这个笑话让你开心！###</span>\n",
       "<span style=\"color: #008000; text-decoration-color: #008000\">\\n笑话2：###当然可以！这里有一个关于程序员的笑话：\\n\\n为什么程序员总是喜欢在黑暗中工作？\\n\\n因为他们害怕“光标”闪烁</span>\n",
       "<span style=\"color: #008000; text-decoration-color: #008000\">！ \\n\\n希望你喜欢这个笑话！如果想听更多，随时告诉我！###'</span>\n",
       "        <span style=\"font-weight: bold\">)</span>\n",
       "    <span style=\"font-weight: bold\">]</span>\n",
       "<span style=\"font-weight: bold\">)</span>\n",
       "</pre>\n"
      ],
      "text/plain": [
       "\u001b[1;35mChatPromptValue\u001b[0m\u001b[1m(\u001b[0m\n",
       "    \u001b[33mmessages\u001b[0m=\u001b[1m[\u001b[0m\n",
       "        \u001b[1;35mHumanMessage\u001b[0m\u001b[1m(\u001b[0m\n",
       "            \u001b[33mcontent\u001b[0m=\u001b[32m'这两个笑话哪个比较好笑？笑话1： \u001b[0m\n",
       "\u001b[32m###当然可以！这里有一个程序员的笑话：\\n\\n有一天，一位程序员走进酒吧，点了一杯酒。酒保问他：“你为什么看起来这么沮丧\u001b[0m\n",
       "\u001b[32m？”\\n\\n程序员叹了口气说：“我最近在调试代码，发现我只是在不断地解决问题，却没有找到真正的解决方案。”\\n\\n酒保笑着说：\u001b[0m\n",
       "\u001b[32m“那你为什么不直接重启一下？”\\n\\n程序员愣了一下，然后哈哈大笑：“对啊，生活也需要重启！”\\n\\n希望这个笑话让你开心！###\u001b[0m\n",
       "\u001b[32m\\n笑话2：###当然可以！这里有一个关于程序员的笑话：\\n\\n为什么程序员总是喜欢在黑暗中工作？\\n\\n因为他们害怕“光标”闪烁\u001b[0m\n",
       "\u001b[32m！ \\n\\n希望你喜欢这个笑话！如果想听更多，随时告诉我！###'\u001b[0m\n",
       "        \u001b[1m)\u001b[0m\n",
       "    \u001b[1m]\u001b[0m\n",
       "\u001b[1m)\u001b[0m\n"
      ]
     },
     "metadata": {},
     "output_type": "display_data"
    },
    {
     "data": {
      "text/html": [
       "<pre style=\"white-space:pre;overflow-x:auto;line-height:normal;font-family:Menlo,'DejaVu Sans Mono',consolas,'Courier New',monospace\">这两个笑话各有特色，适合不同的幽默风格。\n",
       "\n",
       "笑话1通过程序员调试代码的经历，结合了生活哲理，给人一种共鸣感，尤其是程序员可能会对“重启”这个概念感到亲切。这种幽默\n",
       "不仅让人发笑，还引发思考。\n",
       "\n",
       "笑话2则是一个简单的双关语，利用“光标”闪烁的字面意思和程序员工作环境的特性来制造幽默。这个笑话比较直接，容易理解，适\n",
       "合快速一笑。\n",
       "\n",
       "综上所述，如果你喜欢带有深意和共鸣的笑话，笑话1可能更好笑；如果你喜欢简单直接的幽默，笑话2也很有趣。你更倾向于哪种\n",
       "幽默呢？\n",
       "</pre>\n"
      ],
      "text/plain": [
       "这两个笑话各有特色，适合不同的幽默风格。\n",
       "\n",
       "笑话1通过程序员调试代码的经历，结合了生活哲理，给人一种共鸣感，尤其是程序员可能会对“重启”这个概念感到亲切。这种幽默\n",
       "不仅让人发笑，还引发思考。\n",
       "\n",
       "笑话2则是一个简单的双关语，利用“光标”闪烁的字面意思和程序员工作环境的特性来制造幽默。这个笑话比较直接，容易理解，适\n",
       "合快速一笑。\n",
       "\n",
       "综上所述，如果你喜欢带有深意和共鸣的笑话，笑话1可能更好笑；如果你喜欢简单直接的幽默，笑话2也很有趣。你更倾向于哪种\n",
       "幽默呢？\n"
      ]
     },
     "metadata": {},
     "output_type": "display_data"
    }
   ],
   "source": [
    "# 并行链1\n",
    "from langchain_core.output_parsers import StrOutputParser\n",
    "from langchain_core.runnables import RunnableLambda\n",
    "\n",
    "\n",
    "analysis_prompt = ChatPromptTemplate.from_template(\"这两个笑话哪个比较好笑？笑话1： ###{joke1}###\\n笑话2：###{joke2}###\")\n",
    "\n",
    "composed_chain = {\"joke1\": chain, \"joke2\": chain} | RunnableLambda(print_input) | analysis_prompt | print_input | model | StrOutputParser()\n",
    "\n",
    "response = composed_chain.invoke({\"topic\":\"程序员\"})\n",
    "\n",
    "print(response)"
   ]
  },
  {
   "cell_type": "code",
   "execution_count": 6,
   "metadata": {},
   "outputs": [
    {
     "data": {
      "text/html": [
       "<pre style=\"white-space:pre;overflow-x:auto;line-height:normal;font-family:Menlo,'DejaVu Sans Mono',consolas,'Courier New',monospace\">input:\n",
       "</pre>\n"
      ],
      "text/plain": [
       "input:\n"
      ]
     },
     "metadata": {},
     "output_type": "display_data"
    },
    {
     "data": {
      "text/html": [
       "<pre style=\"white-space:pre;overflow-x:auto;line-height:normal;font-family:Menlo,'DejaVu Sans Mono',consolas,'Courier New',monospace\">input:\n",
       "</pre>\n"
      ],
      "text/plain": [
       "input:\n"
      ]
     },
     "metadata": {},
     "output_type": "display_data"
    },
    {
     "data": {
      "text/html": [
       "<pre style=\"white-space:pre;overflow-x:auto;line-height:normal;font-family:Menlo,'DejaVu Sans Mono',consolas,'Courier New',monospace\"><span style=\"color: #800080; text-decoration-color: #800080; font-weight: bold\">ChatPromptValue</span><span style=\"font-weight: bold\">(</span><span style=\"color: #808000; text-decoration-color: #808000\">messages</span>=<span style=\"font-weight: bold\">[</span><span style=\"color: #800080; text-decoration-color: #800080; font-weight: bold\">HumanMessage</span><span style=\"font-weight: bold\">(</span><span style=\"color: #808000; text-decoration-color: #808000\">content</span>=<span style=\"color: #008000; text-decoration-color: #008000\">'讲个关于[程序员]的笑话'</span><span style=\"font-weight: bold\">)])</span>\n",
       "</pre>\n"
      ],
      "text/plain": [
       "\u001b[1;35mChatPromptValue\u001b[0m\u001b[1m(\u001b[0m\u001b[33mmessages\u001b[0m=\u001b[1m[\u001b[0m\u001b[1;35mHumanMessage\u001b[0m\u001b[1m(\u001b[0m\u001b[33mcontent\u001b[0m=\u001b[32m'讲个关于\u001b[0m\u001b[32m[\u001b[0m\u001b[32m程序员\u001b[0m\u001b[32m]\u001b[0m\u001b[32m的笑话'\u001b[0m\u001b[1m)\u001b[0m\u001b[1m]\u001b[0m\u001b[1m)\u001b[0m\n"
      ]
     },
     "metadata": {},
     "output_type": "display_data"
    },
    {
     "data": {
      "text/html": [
       "<pre style=\"white-space:pre;overflow-x:auto;line-height:normal;font-family:Menlo,'DejaVu Sans Mono',consolas,'Courier New',monospace\"><span style=\"color: #800080; text-decoration-color: #800080; font-weight: bold\">ChatPromptValue</span><span style=\"font-weight: bold\">(</span><span style=\"color: #808000; text-decoration-color: #808000\">messages</span>=<span style=\"font-weight: bold\">[</span><span style=\"color: #800080; text-decoration-color: #800080; font-weight: bold\">HumanMessage</span><span style=\"font-weight: bold\">(</span><span style=\"color: #808000; text-decoration-color: #808000\">content</span>=<span style=\"color: #008000; text-decoration-color: #008000\">'讲个关于[程序员]的笑话'</span><span style=\"font-weight: bold\">)])</span>\n",
       "</pre>\n"
      ],
      "text/plain": [
       "\u001b[1;35mChatPromptValue\u001b[0m\u001b[1m(\u001b[0m\u001b[33mmessages\u001b[0m=\u001b[1m[\u001b[0m\u001b[1;35mHumanMessage\u001b[0m\u001b[1m(\u001b[0m\u001b[33mcontent\u001b[0m=\u001b[32m'讲个关于\u001b[0m\u001b[32m[\u001b[0m\u001b[32m程序员\u001b[0m\u001b[32m]\u001b[0m\u001b[32m的笑话'\u001b[0m\u001b[1m)\u001b[0m\u001b[1m]\u001b[0m\u001b[1m)\u001b[0m\n"
      ]
     },
     "metadata": {},
     "output_type": "display_data"
    },
    {
     "data": {
      "text/html": [
       "<pre style=\"white-space:pre;overflow-x:auto;line-height:normal;font-family:Menlo,'DejaVu Sans Mono',consolas,'Courier New',monospace\">input:\n",
       "</pre>\n"
      ],
      "text/plain": [
       "input:\n"
      ]
     },
     "metadata": {},
     "output_type": "display_data"
    },
    {
     "data": {
      "text/html": [
       "<pre style=\"white-space:pre;overflow-x:auto;line-height:normal;font-family:Menlo,'DejaVu Sans Mono',consolas,'Courier New',monospace\"><span style=\"font-weight: bold\">{</span>\n",
       "    <span style=\"color: #008000; text-decoration-color: #008000\">'joke1'</span>: \n",
       "<span style=\"color: #008000; text-decoration-color: #008000\">'当然可以！这是一个关于程序员的笑话：\\n\\n有一天，程序员走进一家咖啡店，店员问他：“要喝什么？”\\n\\n程序员回答：“给我</span>\n",
       "<span style=\"color: #008000; text-decoration-color: #008000\">来一杯咖啡，不加糖。”\\n\\n店员又问：“那你要加奶吗？”\\n\\n程序员想了想，回答：“那我就不加奶了，给我一杯黑咖啡，按默认</span>\n",
       "<span style=\"color: #008000; text-decoration-color: #008000\">设置就好。”\\n\\n店员无奈地说：“您真是个程序员！”\\n\\n希望你喜欢这个笑话！'</span>,\n",
       "    <span style=\"color: #008000; text-decoration-color: #008000\">'joke2'</span>: <span style=\"color: #008000; text-decoration-color: #008000\">'当然可以！这里有一个关于程序员的笑话：\\n\\n为什么程序员总是混淆万圣节和圣诞节？\\n\\n因为 Oct 31 = Dec </span>\n",
       "<span style=\"color: #008000; text-decoration-color: #008000\">25！\\n\\n（解释一下：在八进制中，31等于十进制的25。）'</span>\n",
       "<span style=\"font-weight: bold\">}</span>\n",
       "</pre>\n"
      ],
      "text/plain": [
       "\u001b[1m{\u001b[0m\n",
       "    \u001b[32m'joke1'\u001b[0m: \n",
       "\u001b[32m'当然可以！这是一个关于程序员的笑话：\\n\\n有一天，程序员走进一家咖啡店，店员问他：“要喝什么？”\\n\\n程序员回答：“给我\u001b[0m\n",
       "\u001b[32m来一杯咖啡，不加糖。”\\n\\n店员又问：“那你要加奶吗？”\\n\\n程序员想了想，回答：“那我就不加奶了，给我一杯黑咖啡，按默认\u001b[0m\n",
       "\u001b[32m设置就好。”\\n\\n店员无奈地说：“您真是个程序员！”\\n\\n希望你喜欢这个笑话！'\u001b[0m,\n",
       "    \u001b[32m'joke2'\u001b[0m: \u001b[32m'当然可以！这里有一个关于程序员的笑话：\\n\\n为什么程序员总是混淆万圣节和圣诞节？\\n\\n因为 Oct 31 = Dec \u001b[0m\n",
       "\u001b[32m25！\\n\\n（解释一下：在八进制中，31等于十进制的25。）'\u001b[0m\n",
       "\u001b[1m}\u001b[0m\n"
      ]
     },
     "metadata": {},
     "output_type": "display_data"
    },
    {
     "data": {
      "text/html": [
       "<pre style=\"white-space:pre;overflow-x:auto;line-height:normal;font-family:Menlo,'DejaVu Sans Mono',consolas,'Courier New',monospace\">input:\n",
       "</pre>\n"
      ],
      "text/plain": [
       "input:\n"
      ]
     },
     "metadata": {},
     "output_type": "display_data"
    },
    {
     "data": {
      "text/html": [
       "<pre style=\"white-space:pre;overflow-x:auto;line-height:normal;font-family:Menlo,'DejaVu Sans Mono',consolas,'Courier New',monospace\"><span style=\"color: #800080; text-decoration-color: #800080; font-weight: bold\">ChatPromptValue</span><span style=\"font-weight: bold\">(</span>\n",
       "    <span style=\"color: #808000; text-decoration-color: #808000\">messages</span>=<span style=\"font-weight: bold\">[</span>\n",
       "        <span style=\"color: #800080; text-decoration-color: #800080; font-weight: bold\">HumanMessage</span><span style=\"font-weight: bold\">(</span>\n",
       "            <span style=\"color: #808000; text-decoration-color: #808000\">content</span>=<span style=\"color: #008000; text-decoration-color: #008000\">'这两个笑话哪个比较好笑？笑话1： </span>\n",
       "<span style=\"color: #008000; text-decoration-color: #008000\">###当然可以！这是一个关于程序员的笑话：\\n\\n有一天，程序员走进一家咖啡店，店员问他：“要喝什么？”\\n\\n程序员回答：“给</span>\n",
       "<span style=\"color: #008000; text-decoration-color: #008000\">我来一杯咖啡，不加糖。”\\n\\n店员又问：“那你要加奶吗？”\\n\\n程序员想了想，回答：“那我就不加奶了，给我一杯黑咖啡，按默</span>\n",
       "<span style=\"color: #008000; text-decoration-color: #008000\">认设置就好。”\\n\\n店员无奈地说：“您真是个程序员！”\\n\\n希望你喜欢这个笑话！###\\n笑话2：###当然可以！这里有一个关于程</span>\n",
       "<span style=\"color: #008000; text-decoration-color: #008000\">序员的笑话：\\n\\n为什么程序员总是混淆万圣节和圣诞节？\\n\\n因为 Oct 31 = Dec </span>\n",
       "<span style=\"color: #008000; text-decoration-color: #008000\">25！\\n\\n（解释一下：在八进制中，31等于十进制的25。）###'</span>\n",
       "        <span style=\"font-weight: bold\">)</span>\n",
       "    <span style=\"font-weight: bold\">]</span>\n",
       "<span style=\"font-weight: bold\">)</span>\n",
       "</pre>\n"
      ],
      "text/plain": [
       "\u001b[1;35mChatPromptValue\u001b[0m\u001b[1m(\u001b[0m\n",
       "    \u001b[33mmessages\u001b[0m=\u001b[1m[\u001b[0m\n",
       "        \u001b[1;35mHumanMessage\u001b[0m\u001b[1m(\u001b[0m\n",
       "            \u001b[33mcontent\u001b[0m=\u001b[32m'这两个笑话哪个比较好笑？笑话1： \u001b[0m\n",
       "\u001b[32m###当然可以！这是一个关于程序员的笑话：\\n\\n有一天，程序员走进一家咖啡店，店员问他：“要喝什么？”\\n\\n程序员回答：“给\u001b[0m\n",
       "\u001b[32m我来一杯咖啡，不加糖。”\\n\\n店员又问：“那你要加奶吗？”\\n\\n程序员想了想，回答：“那我就不加奶了，给我一杯黑咖啡，按默\u001b[0m\n",
       "\u001b[32m认设置就好。”\\n\\n店员无奈地说：“您真是个程序员！”\\n\\n希望你喜欢这个笑话！###\\n笑话2：###当然可以！这里有一个关于程\u001b[0m\n",
       "\u001b[32m序员的笑话：\\n\\n为什么程序员总是混淆万圣节和圣诞节？\\n\\n因为 Oct 31 = Dec \u001b[0m\n",
       "\u001b[32m25！\\n\\n（解释一下：在八进制中，31等于十进制的25。）###'\u001b[0m\n",
       "        \u001b[1m)\u001b[0m\n",
       "    \u001b[1m]\u001b[0m\n",
       "\u001b[1m)\u001b[0m\n"
      ]
     },
     "metadata": {},
     "output_type": "display_data"
    },
    {
     "data": {
      "text/html": [
       "<pre style=\"white-space:pre;overflow-x:auto;line-height:normal;font-family:Menlo,'DejaVu Sans Mono',consolas,'Courier New',monospace\">这两个笑话各有特点，适合不同的口味。\n",
       "\n",
       "笑话1是一个关于程序员如何习惯于使用默认设置的幽默，可能让一些人会心一笑，特别是那些了解程序员思维的人。\n",
       "\n",
       "笑话2则是一个经典的编程笑话，利用了数字系统的转换（八进制和十进制）来产生幽默，适合喜欢数学和计算机科学的人。\n",
       "\n",
       "如果你喜欢更日常的幽默和生活中的小故事，可能会觉得笑话1更好笑；如果你对编程和数字系统有兴趣，笑话2可能会更有趣。总\n",
       "的来说，两个笑话都有其魅力，最终取决于个人的喜好！\n",
       "</pre>\n"
      ],
      "text/plain": [
       "这两个笑话各有特点，适合不同的口味。\n",
       "\n",
       "笑话1是一个关于程序员如何习惯于使用默认设置的幽默，可能让一些人会心一笑，特别是那些了解程序员思维的人。\n",
       "\n",
       "笑话2则是一个经典的编程笑话，利用了数字系统的转换（八进制和十进制）来产生幽默，适合喜欢数学和计算机科学的人。\n",
       "\n",
       "如果你喜欢更日常的幽默和生活中的小故事，可能会觉得笑话1更好笑；如果你对编程和数字系统有兴趣，笑话2可能会更有趣。总\n",
       "的来说，两个笑话都有其魅力，最终取决于个人的喜好！\n"
      ]
     },
     "metadata": {},
     "output_type": "display_data"
    }
   ],
   "source": [
    "# 并行链2\n",
    "from langchain_core.output_parsers import StrOutputParser\n",
    "from langchain_core.runnables import RunnableLambda\n",
    "from langchain_core.runnables import RunnableParallel\n",
    "\n",
    "\n",
    "\n",
    "\n",
    "analysis_prompt = ChatPromptTemplate.from_template(\"这两个笑话哪个比较好笑？笑话1： ###{joke1}###\\n笑话2：###{joke2}###\")\n",
    "\n",
    "composed_chain = RunnableParallel( joke1 = chain, joke2 = chain) | print_input | analysis_prompt | print_input | model | StrOutputParser()\n",
    "\n",
    "response = composed_chain.invoke({\"topic\":\"程序员\"})\n",
    "\n",
    "print(response)"
   ]
  }
 ],
 "metadata": {
  "kernelspec": {
   "display_name": "Python 3",
   "language": "python",
   "name": "python3"
  },
  "language_info": {
   "codemirror_mode": {
    "name": "ipython",
    "version": 3
   },
   "file_extension": ".py",
   "mimetype": "text/x-python",
   "name": "python",
   "nbconvert_exporter": "python",
   "pygments_lexer": "ipython3",
   "version": "3.11.8"
  }
 },
 "nbformat": 4,
 "nbformat_minor": 2
}
